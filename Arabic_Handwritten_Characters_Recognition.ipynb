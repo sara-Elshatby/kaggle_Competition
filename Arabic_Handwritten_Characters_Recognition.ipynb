{
 "cells": [
  {
   "cell_type": "code",
   "execution_count": 1,
   "id": "d66d6093",
   "metadata": {
    "execution": {
     "iopub.execute_input": "2021-11-07T11:28:33.358161Z",
     "iopub.status.busy": "2021-11-07T11:28:33.355457Z",
     "iopub.status.idle": "2021-11-07T11:28:48.470549Z",
     "shell.execute_reply": "2021-11-07T11:28:48.470994Z",
     "shell.execute_reply.started": "2021-11-07T10:47:23.071266Z"
    },
    "id": "mhn19mhRRtEB",
    "papermill": {
     "duration": 15.144915,
     "end_time": "2021-11-07T11:28:48.471296",
     "exception": false,
     "start_time": "2021-11-07T11:28:33.326381",
     "status": "completed"
    },
    "tags": []
   },
   "outputs": [
    {
     "name": "stdout",
     "output_type": "stream",
     "text": [
      "Collecting glob2\r\n",
      "  Downloading glob2-0.7.tar.gz (10 kB)\r\n",
      "Building wheels for collected packages: glob2\r\n",
      "  Building wheel for glob2 (setup.py) ... \u001b[?25l-\b \b\\\b \bdone\r\n",
      "\u001b[?25h  Created wheel for glob2: filename=glob2-0.7-py2.py3-none-any.whl size=9321 sha256=6c0a56524f908e5627159103fe8da59657f069e0ab0038d009efe89e9166f8ae\r\n",
      "  Stored in directory: /root/.cache/pip/wheels/d7/3c/72/5300602ba1269ffce8cff5dcf7b525fee756b57455903c37ba\r\n",
      "Successfully built glob2\r\n",
      "Installing collected packages: glob2\r\n",
      "Successfully installed glob2-0.7\r\n",
      "\u001b[33mWARNING: Running pip as the 'root' user can result in broken permissions and conflicting behaviour with the system package manager. It is recommended to use a virtual environment instead: https://pip.pypa.io/warnings/venv\u001b[0m\r\n"
     ]
    }
   ],
   "source": [
    "!pip install glob2\n",
    "\n",
    "import numpy as np\n",
    "import pandas as pd\n",
    "import matplotlib.pyplot as plt\n",
    "import keras\n",
    "from PIL import Image\n",
    "from glob2 import glob\n",
    "from keras.preprocessing.image import img_to_array, load_img"
   ]
  },
  {
   "cell_type": "code",
   "execution_count": 2,
   "id": "fdd09166",
   "metadata": {
    "execution": {
     "iopub.execute_input": "2021-11-07T11:28:48.517144Z",
     "iopub.status.busy": "2021-11-07T11:28:48.516411Z",
     "iopub.status.idle": "2021-11-07T11:28:48.518673Z",
     "shell.execute_reply": "2021-11-07T11:28:48.519112Z",
     "shell.execute_reply.started": "2021-11-07T10:47:30.530143Z"
    },
    "id": "lqeuZkaDU5Fo",
    "papermill": {
     "duration": 0.026866,
     "end_time": "2021-11-07T11:28:48.519271",
     "exception": false,
     "start_time": "2021-11-07T11:28:48.492405",
     "status": "completed"
    },
    "tags": []
   },
   "outputs": [],
   "source": [
    "img_width, img_height = (32,32)\n",
    "if keras.backend.image_data_format() == 'channels_first':\n",
    "    input_shape = (3, img_width, img_height)\n",
    "else:\n",
    "    input_shape = (img_width, img_height, 3)"
   ]
  },
  {
   "cell_type": "code",
   "execution_count": 3,
   "id": "2be08baa",
   "metadata": {
    "execution": {
     "iopub.execute_input": "2021-11-07T11:28:48.564265Z",
     "iopub.status.busy": "2021-11-07T11:28:48.563699Z",
     "iopub.status.idle": "2021-11-07T11:28:48.840121Z",
     "shell.execute_reply": "2021-11-07T11:28:48.840727Z",
     "shell.execute_reply.started": "2021-11-07T10:47:30.537896Z"
    },
    "id": "hB_fliNBZWNn",
    "papermill": {
     "duration": 0.299673,
     "end_time": "2021-11-07T11:28:48.840878",
     "exception": false,
     "start_time": "2021-11-07T11:28:48.541205",
     "status": "completed"
    },
    "tags": []
   },
   "outputs": [],
   "source": [
    "train_path = sorted(glob('../input/arabic-hwr-ai-pro-intake1/train/*.png'))\n"
   ]
  },
  {
   "cell_type": "code",
   "execution_count": 4,
   "id": "fbdb9a2e",
   "metadata": {
    "execution": {
     "iopub.execute_input": "2021-11-07T11:28:48.887302Z",
     "iopub.status.busy": "2021-11-07T11:28:48.886736Z",
     "iopub.status.idle": "2021-11-07T11:29:28.470863Z",
     "shell.execute_reply": "2021-11-07T11:29:28.471328Z",
     "shell.execute_reply.started": "2021-11-07T10:47:30.636431Z"
    },
    "id": "m3LrXL4yxLjO",
    "outputId": "42093a6a-8b51-4472-8e26-ad2471e7f9a7",
    "papermill": {
     "duration": 39.608536,
     "end_time": "2021-11-07T11:29:28.471485",
     "exception": false,
     "start_time": "2021-11-07T11:28:48.862949",
     "status": "completed"
    },
    "tags": []
   },
   "outputs": [
    {
     "data": {
      "text/plain": [
       "(13440, 32, 32, 1)"
      ]
     },
     "execution_count": 4,
     "metadata": {},
     "output_type": "execute_result"
    }
   ],
   "source": [
    "X=[]\n",
    "for i in train_path:\n",
    "    im = img_to_array(Image.open(i).convert('L'))\n",
    "    # im = (im > 30) * 255\n",
    "    X.append(im)\n",
    "X = np.array(X)\n",
    "X.shape"
   ]
  },
  {
   "cell_type": "code",
   "execution_count": 5,
   "id": "ade9b38a",
   "metadata": {
    "execution": {
     "iopub.execute_input": "2021-11-07T11:29:28.518763Z",
     "iopub.status.busy": "2021-11-07T11:29:28.517643Z",
     "iopub.status.idle": "2021-11-07T11:29:28.520703Z",
     "shell.execute_reply": "2021-11-07T11:29:28.521097Z",
     "shell.execute_reply.started": "2021-11-07T10:47:39.324882Z"
    },
    "id": "atWpuMdZxiUY",
    "outputId": "48171d66-9549-488f-9d1b-2c5ded21f95c",
    "papermill": {
     "duration": 0.029417,
     "end_time": "2021-11-07T11:29:28.521253",
     "exception": false,
     "start_time": "2021-11-07T11:29:28.491836",
     "status": "completed"
    },
    "tags": []
   },
   "outputs": [
    {
     "data": {
      "text/plain": [
       "28"
      ]
     },
     "execution_count": 5,
     "metadata": {},
     "output_type": "execute_result"
    }
   ],
   "source": [
    "alpha = 'أ ب ت ث ج ح خ د ذ ر ز س ش ص ض ط ظ ع غ ف ق ك ل م ن هـ و ي'\n",
    "alpha = alpha.split()\n",
    "m = {i+1: alpha[i] for i in range(len(alpha))}\n",
    "len(alpha)"
   ]
  },
  {
   "cell_type": "code",
   "execution_count": 6,
   "id": "1f087305",
   "metadata": {
    "execution": {
     "iopub.execute_input": "2021-11-07T11:29:28.566207Z",
     "iopub.status.busy": "2021-11-07T11:29:28.565685Z",
     "iopub.status.idle": "2021-11-07T11:29:28.599885Z",
     "shell.execute_reply": "2021-11-07T11:29:28.600638Z",
     "shell.execute_reply.started": "2021-11-07T10:47:39.336853Z"
    },
    "id": "6huWVjEwxjTY",
    "outputId": "e1597030-f88f-4549-ff08-9ef7fd70d817",
    "papermill": {
     "duration": 0.058879,
     "end_time": "2021-11-07T11:29:28.600779",
     "exception": false,
     "start_time": "2021-11-07T11:29:28.541900",
     "status": "completed"
    },
    "tags": []
   },
   "outputs": [
    {
     "data": {
      "text/html": [
       "<div>\n",
       "<style scoped>\n",
       "    .dataframe tbody tr th:only-of-type {\n",
       "        vertical-align: middle;\n",
       "    }\n",
       "\n",
       "    .dataframe tbody tr th {\n",
       "        vertical-align: top;\n",
       "    }\n",
       "\n",
       "    .dataframe thead th {\n",
       "        text-align: right;\n",
       "    }\n",
       "</style>\n",
       "<table border=\"1\" class=\"dataframe\">\n",
       "  <thead>\n",
       "    <tr style=\"text-align: right;\">\n",
       "      <th></th>\n",
       "      <th>id</th>\n",
       "      <th>label</th>\n",
       "      <th>alpha</th>\n",
       "    </tr>\n",
       "  </thead>\n",
       "  <tbody>\n",
       "    <tr>\n",
       "      <th>0</th>\n",
       "      <td>0</td>\n",
       "      <td>24</td>\n",
       "      <td>م</td>\n",
       "    </tr>\n",
       "    <tr>\n",
       "      <th>1</th>\n",
       "      <td>1</td>\n",
       "      <td>2</td>\n",
       "      <td>ب</td>\n",
       "    </tr>\n",
       "    <tr>\n",
       "      <th>2</th>\n",
       "      <td>2</td>\n",
       "      <td>17</td>\n",
       "      <td>ظ</td>\n",
       "    </tr>\n",
       "    <tr>\n",
       "      <th>3</th>\n",
       "      <td>3</td>\n",
       "      <td>14</td>\n",
       "      <td>ص</td>\n",
       "    </tr>\n",
       "    <tr>\n",
       "      <th>4</th>\n",
       "      <td>4</td>\n",
       "      <td>19</td>\n",
       "      <td>غ</td>\n",
       "    </tr>\n",
       "  </tbody>\n",
       "</table>\n",
       "</div>"
      ],
      "text/plain": [
       "   id  label alpha\n",
       "0   0     24     م\n",
       "1   1      2     ب\n",
       "2   2     17     ظ\n",
       "3   3     14     ص\n",
       "4   4     19     غ"
      ]
     },
     "execution_count": 6,
     "metadata": {},
     "output_type": "execute_result"
    }
   ],
   "source": [
    "y_df = pd.read_csv('../input/arabic-hwr-ai-pro-intake1/train.csv')\n",
    "y_df['alpha'] = y_df.label.map(m)\n",
    "y_df.head()"
   ]
  },
  {
   "cell_type": "code",
   "execution_count": 7,
   "id": "d20c86e7",
   "metadata": {
    "execution": {
     "iopub.execute_input": "2021-11-07T11:29:28.659845Z",
     "iopub.status.busy": "2021-11-07T11:29:28.651740Z",
     "iopub.status.idle": "2021-11-07T11:29:28.863960Z",
     "shell.execute_reply": "2021-11-07T11:29:28.864384Z",
     "shell.execute_reply.started": "2021-11-07T10:47:39.357319Z"
    },
    "id": "MgiT6H7Sxl9P",
    "outputId": "1ab46e83-5f3a-4477-ef0b-2bfbeafb07de",
    "papermill": {
     "duration": 0.243202,
     "end_time": "2021-11-07T11:29:28.864536",
     "exception": false,
     "start_time": "2021-11-07T11:29:28.621334",
     "status": "completed"
    },
    "tags": []
   },
   "outputs": [
    {
     "data": {
      "text/plain": [
       "Text(0.5, 1.0, 'س')"
      ]
     },
     "execution_count": 7,
     "metadata": {},
     "output_type": "execute_result"
    },
    {
     "data": {
      "image/png": "[encoded data removed]",
      "text/plain": [
       "<Figure size 432x288 with 1 Axes>"
      ]
     },
     "metadata": {
      "needs_background": "light"
     },
     "output_type": "display_data"
    }
   ],
   "source": [
    "z = X[111].reshape(32,32)\n",
    "# z = (z > 30) * 255\n",
    "plt.imshow(z,cmap='gray',)\n",
    "plt.title(y_df.alpha[111])"
   ]
  },
  {
   "cell_type": "code",
   "execution_count": 8,
   "id": "21a6a52b",
   "metadata": {
    "execution": {
     "iopub.execute_input": "2021-11-07T11:29:28.913481Z",
     "iopub.status.busy": "2021-11-07T11:29:28.912708Z",
     "iopub.status.idle": "2021-11-07T11:29:29.883300Z",
     "shell.execute_reply": "2021-11-07T11:29:29.882674Z",
     "shell.execute_reply.started": "2021-11-07T10:47:39.582012Z"
    },
    "id": "-VGOxc8CR7lA",
    "papermill": {
     "duration": 0.99727,
     "end_time": "2021-11-07T11:29:29.883434",
     "exception": false,
     "start_time": "2021-11-07T11:29:28.886164",
     "status": "completed"
    },
    "tags": []
   },
   "outputs": [],
   "source": [
    "from sklearn.model_selection import train_test_split\n",
    "from sklearn.preprocessing import OneHotEncoder\n",
    "import tensorflow as tf\n",
    "from tensorflow.keras.models import Sequential\n",
    "from tensorflow.keras.layers import Dense, Dropout, Flatten\n",
    "from tensorflow.keras.layers import Conv2D, MaxPooling2D, BatchNormalization\n",
    "from tensorflow.keras.optimizers import Adam\n",
    "from keras.utils.np_utils import to_categorical\n",
    "from keras.preprocessing.image import ImageDataGenerator\n",
    "\n",
    "np.random.seed(0)"
   ]
  },
  {
   "cell_type": "code",
   "execution_count": 9,
   "id": "d6a69046",
   "metadata": {
    "execution": {
     "iopub.execute_input": "2021-11-07T11:29:29.933566Z",
     "iopub.status.busy": "2021-11-07T11:29:29.932944Z",
     "iopub.status.idle": "2021-11-07T11:29:29.941991Z",
     "shell.execute_reply": "2021-11-07T11:29:29.941507Z",
     "shell.execute_reply.started": "2021-11-07T10:47:39.590091Z"
    },
    "id": "JVNb67Wox1yY",
    "outputId": "40a7ebde-39ec-4d3a-d766-50592120bcec",
    "papermill": {
     "duration": 0.035562,
     "end_time": "2021-11-07T11:29:29.942137",
     "exception": false,
     "start_time": "2021-11-07T11:29:29.906575",
     "status": "completed"
    },
    "tags": []
   },
   "outputs": [
    {
     "data": {
      "text/plain": [
       "(13440, 28)"
      ]
     },
     "execution_count": 9,
     "metadata": {},
     "output_type": "execute_result"
    }
   ],
   "source": [
    "y = y_df.label.values\n",
    "y = OneHotEncoder(sparse=False).fit_transform(y.reshape(-1,1))\n",
    "y.shape"
   ]
  },
  {
   "cell_type": "code",
   "execution_count": 10,
   "id": "1e0fb0ee",
   "metadata": {
    "execution": {
     "iopub.execute_input": "2021-11-07T11:29:29.994777Z",
     "iopub.status.busy": "2021-11-07T11:29:29.993998Z",
     "iopub.status.idle": "2021-11-07T11:29:30.404026Z",
     "shell.execute_reply": "2021-11-07T11:29:30.403554Z",
     "shell.execute_reply.started": "2021-11-07T10:47:39.610588Z"
    },
    "id": "n_HqhBw4x4SV",
    "papermill": {
     "duration": 0.439611,
     "end_time": "2021-11-07T11:29:30.404161",
     "exception": false,
     "start_time": "2021-11-07T11:29:29.964550",
     "status": "completed"
    },
    "tags": []
   },
   "outputs": [],
   "source": [
    "random_seed = 42\n",
    "\n",
    "X_train, X_val, y_train, y_val = train_test_split(X, y, test_size = 0.25, random_state=random_seed,stratify=y)"
   ]
  },
  {
   "cell_type": "code",
   "execution_count": 11,
   "id": "22c11486",
   "metadata": {
    "execution": {
     "iopub.execute_input": "2021-11-07T11:29:30.460041Z",
     "iopub.status.busy": "2021-11-07T11:29:30.457036Z",
     "iopub.status.idle": "2021-11-07T11:29:33.006009Z",
     "shell.execute_reply": "2021-11-07T11:29:33.006712Z",
     "shell.execute_reply.started": "2021-11-07T10:47:40.035291Z"
    },
    "id": "RZJkhQeLR_2_",
    "papermill": {
     "duration": 2.580363,
     "end_time": "2021-11-07T11:29:33.006868",
     "exception": false,
     "start_time": "2021-11-07T11:29:30.426505",
     "status": "completed"
    },
    "tags": []
   },
   "outputs": [
    {
     "name": "stderr",
     "output_type": "stream",
     "text": [
      "2021-11-07 11:29:30.525301: I tensorflow/stream_executor/cuda/cuda_gpu_executor.cc:937] successful NUMA node read from SysFS had negative value (-1), but there must be at least one NUMA node, so returning NUMA node zero\n",
      "2021-11-07 11:29:30.633786: I tensorflow/stream_executor/cuda/cuda_gpu_executor.cc:937] successful NUMA node read from SysFS had negative value (-1), but there must be at least one NUMA node, so returning NUMA node zero\n",
      "2021-11-07 11:29:30.634525: I tensorflow/stream_executor/cuda/cuda_gpu_executor.cc:937] successful NUMA node read from SysFS had negative value (-1), but there must be at least one NUMA node, so returning NUMA node zero\n",
      "2021-11-07 11:29:30.635707: I tensorflow/core/platform/cpu_feature_guard.cc:142] This TensorFlow binary is optimized with oneAPI Deep Neural Network Library (oneDNN) to use the following CPU instructions in performance-critical operations:  AVX2 AVX512F FMA\n",
      "To enable them in other operations, rebuild TensorFlow with the appropriate compiler flags.\n",
      "2021-11-07 11:29:30.636872: I tensorflow/stream_executor/cuda/cuda_gpu_executor.cc:937] successful NUMA node read from SysFS had negative value (-1), but there must be at least one NUMA node, so returning NUMA node zero\n",
      "2021-11-07 11:29:30.637537: I tensorflow/stream_executor/cuda/cuda_gpu_executor.cc:937] successful NUMA node read from SysFS had negative value (-1), but there must be at least one NUMA node, so returning NUMA node zero\n",
      "2021-11-07 11:29:30.638489: I tensorflow/stream_executor/cuda/cuda_gpu_executor.cc:937] successful NUMA node read from SysFS had negative value (-1), but there must be at least one NUMA node, so returning NUMA node zero\n",
      "2021-11-07 11:29:32.547761: I tensorflow/stream_executor/cuda/cuda_gpu_executor.cc:937] successful NUMA node read from SysFS had negative value (-1), but there must be at least one NUMA node, so returning NUMA node zero\n",
      "2021-11-07 11:29:32.548581: I tensorflow/stream_executor/cuda/cuda_gpu_executor.cc:937] successful NUMA node read from SysFS had negative value (-1), but there must be at least one NUMA node, so returning NUMA node zero\n",
      "2021-11-07 11:29:32.549238: I tensorflow/stream_executor/cuda/cuda_gpu_executor.cc:937] successful NUMA node read from SysFS had negative value (-1), but there must be at least one NUMA node, so returning NUMA node zero\n",
      "2021-11-07 11:29:32.549819: I tensorflow/core/common_runtime/gpu/gpu_device.cc:1510] Created device /job:localhost/replica:0/task:0/device:GPU:0 with 15403 MB memory:  -> device: 0, name: Tesla P100-PCIE-16GB, pci bus id: 0000:00:04.0, compute capability: 6.0\n"
     ]
    }
   ],
   "source": [
    "# Start neural network\n",
    "network = Sequential()\n",
    "# Add convolutional layer with 32 filters, a 3x3 window, and ReLU activation function\n",
    "network.add(Conv2D(filters=64,kernel_size=(3, 3),\n",
    "                   padding='same',\n",
    "                   input_shape=(32, 32, 1),\n",
    "                   activation='relu'))\n",
    "# Add max pooling layer with a 2x2 window\n",
    "network.add(BatchNormalization())\n",
    "network.add(MaxPooling2D(pool_size=(2, 2)))\n",
    "# Add dropout layer\n",
    "network.add(Dropout(0.3))\n",
    "# Add convolutional layer with 64 filters, a 3x3 window, and ReLU activation function\n",
    "network.add(Conv2D(filters=128,padding='same',\n",
    "                   kernel_size=(3, 3),\n",
    "                   activation='relu'))\n",
    "# Add max pooling layer with a 2x2 window\n",
    "network.add(BatchNormalization())\n",
    "network.add(MaxPooling2D(pool_size=(2, 2)))\n",
    "# Add dropout layer\n",
    "network.add(Dropout(0.3))\n",
    "\n",
    "network.add(Conv2D(filters=256, padding='same',\n",
    "                   kernel_size=(3, 3),\n",
    "                   activation='relu'))\n",
    "# Add max pooling layer with a 2x2 window\n",
    "network.add(BatchNormalization())\n",
    "network.add(MaxPooling2D(pool_size=(2, 2)))\n",
    "\n",
    "# Add layer to flatten input\n",
    "network.add(Flatten())\n",
    "\n",
    "# Add fully connected layer of 128 units with a ReLU activation function\n",
    "network.add(Dense(4096, activation=\"relu\"))\n",
    "network.add(Dropout(0.3))\n",
    "\n",
    "network.add(Dense(1024, activation=\"relu\"))\n",
    "network.add(Dropout(0.3))\n",
    "\n",
    "# Add fully connected layer of 128 units with a ReLU activation function\n",
    "network.add(Dense(512, activation=\"relu\"))\n",
    "network.add(Dropout(0.3))\n",
    "\n",
    "# Add fully connected layer with a softmax activation function\n",
    "network.add(Dense(28, activation=\"softmax\"))\n",
    "\n",
    "# Compile neural network\n",
    "optimizer = Adam(learning_rate=0.001)\n",
    "network.compile(loss=\"categorical_crossentropy\", # Cross-entropy\n",
    "                optimizer=optimizer, # Root Mean Square Propagation                \n",
    "                metrics=[\"accuracy\"],) # Accuracy performance metric"
   ]
  },
  {
   "cell_type": "code",
   "execution_count": 12,
   "id": "96fa66cf",
   "metadata": {
    "execution": {
     "iopub.execute_input": "2021-11-07T11:29:33.057980Z",
     "iopub.status.busy": "2021-11-07T11:29:33.057165Z",
     "iopub.status.idle": "2021-11-07T11:29:33.070306Z",
     "shell.execute_reply": "2021-11-07T11:29:33.070724Z",
     "shell.execute_reply.started": "2021-11-07T10:47:40.161193Z"
    },
    "id": "1G4As4uEPjE9",
    "outputId": "42d04fc2-c419-4029-9dc7-be776c8743f6",
    "papermill": {
     "duration": 0.040669,
     "end_time": "2021-11-07T11:29:33.070845",
     "exception": false,
     "start_time": "2021-11-07T11:29:33.030176",
     "status": "completed"
    },
    "tags": []
   },
   "outputs": [
    {
     "name": "stdout",
     "output_type": "stream",
     "text": [
      "Model: \"sequential\"\n",
      "_________________________________________________________________\n",
      "Layer (type)                 Output Shape              Param #   \n",
      "=================================================================\n",
      "conv2d (Conv2D)              (None, 32, 32, 64)        640       \n",
      "_________________________________________________________________\n",
      "batch_normalization (BatchNo (None, 32, 32, 64)        256       \n",
      "_________________________________________________________________\n",
      "max_pooling2d (MaxPooling2D) (None, 16, 16, 64)        0         \n",
      "_________________________________________________________________\n",
      "dropout (Dropout)            (None, 16, 16, 64)        0         \n",
      "_________________________________________________________________\n",
      "conv2d_1 (Conv2D)            (None, 16, 16, 128)       73856     \n",
      "_________________________________________________________________\n",
      "batch_normalization_1 (Batch (None, 16, 16, 128)       512       \n",
      "_________________________________________________________________\n",
      "max_pooling2d_1 (MaxPooling2 (None, 8, 8, 128)         0         \n",
      "_________________________________________________________________\n",
      "dropout_1 (Dropout)          (None, 8, 8, 128)         0         \n",
      "_________________________________________________________________\n",
      "conv2d_2 (Conv2D)            (None, 8, 8, 256)         295168    \n",
      "_________________________________________________________________\n",
      "batch_normalization_2 (Batch (None, 8, 8, 256)         1024      \n",
      "_________________________________________________________________\n",
      "max_pooling2d_2 (MaxPooling2 (None, 4, 4, 256)         0         \n",
      "_________________________________________________________________\n",
      "flatten (Flatten)            (None, 4096)              0         \n",
      "_________________________________________________________________\n",
      "dense (Dense)                (None, 4096)              16781312  \n",
      "_________________________________________________________________\n",
      "dropout_2 (Dropout)          (None, 4096)              0         \n",
      "_________________________________________________________________\n",
      "dense_1 (Dense)              (None, 1024)              4195328   \n",
      "_________________________________________________________________\n",
      "dropout_3 (Dropout)          (None, 1024)              0         \n",
      "_________________________________________________________________\n",
      "dense_2 (Dense)              (None, 512)               524800    \n",
      "_________________________________________________________________\n",
      "dropout_4 (Dropout)          (None, 512)               0         \n",
      "_________________________________________________________________\n",
      "dense_3 (Dense)              (None, 28)                14364     \n",
      "=================================================================\n",
      "Total params: 21,887,260\n",
      "Trainable params: 21,886,364\n",
      "Non-trainable params: 896\n",
      "_________________________________________________________________\n"
     ]
    }
   ],
   "source": [
    "network.summary()"
   ]
  },
  {
   "cell_type": "code",
   "execution_count": 13,
   "id": "8bb95d53",
   "metadata": {
    "execution": {
     "iopub.execute_input": "2021-11-07T11:29:33.125970Z",
     "iopub.status.busy": "2021-11-07T11:29:33.124760Z",
     "iopub.status.idle": "2021-11-07T11:29:33.141753Z",
     "shell.execute_reply": "2021-11-07T11:29:33.141120Z",
     "shell.execute_reply.started": "2021-11-07T10:47:40.177623Z"
    },
    "id": "SupRrF28SzPj",
    "papermill": {
     "duration": 0.048003,
     "end_time": "2021-11-07T11:29:33.141867",
     "exception": false,
     "start_time": "2021-11-07T11:29:33.093864",
     "status": "completed"
    },
    "tags": []
   },
   "outputs": [],
   "source": [
    "datagen = ImageDataGenerator(\n",
    "    rotation_range=20, \n",
    "    zoom_range = 0.2, \n",
    "    width_shift_range=0.1,  \n",
    "    height_shift_range=0.1,  \n",
    "    horizontal_flip=False,  \n",
    "    vertical_flip=False)  \n",
    "\n",
    "\n",
    "datagen.fit(X_train)"
   ]
  },
  {
   "cell_type": "code",
   "execution_count": 14,
   "id": "ae0f8613",
   "metadata": {
    "execution": {
     "iopub.execute_input": "2021-11-07T11:29:33.192995Z",
     "iopub.status.busy": "2021-11-07T11:29:33.192011Z",
     "iopub.status.idle": "2021-11-07T11:47:46.122384Z",
     "shell.execute_reply": "2021-11-07T11:47:46.121812Z",
     "shell.execute_reply.started": "2021-11-07T10:47:40.202295Z"
    },
    "id": "vAaAZGxKUj8O",
    "outputId": "212f5102-1071-43e3-a376-2796399665be",
    "papermill": {
     "duration": 1092.957273,
     "end_time": "2021-11-07T11:47:46.122547",
     "exception": false,
     "start_time": "2021-11-07T11:29:33.165274",
     "status": "completed"
    },
    "tags": []
   },
   "outputs": [
    {
     "name": "stderr",
     "output_type": "stream",
     "text": [
      "2021-11-07 11:29:33.297751: I tensorflow/compiler/mlir/mlir_graph_optimization_pass.cc:185] None of the MLIR Optimization Passes are enabled (registered 2)\n"
     ]
    },
    {
     "name": "stdout",
     "output_type": "stream",
     "text": [
      "Epoch 1/300\n"
     ]
    },
    {
     "name": "stderr",
     "output_type": "stream",
     "text": [
      "2021-11-07 11:29:34.825157: I tensorflow/stream_executor/cuda/cuda_dnn.cc:369] Loaded cuDNN version 8005\n"
     ]
    },
    {
     "name": "stdout",
     "output_type": "stream",
     "text": [
      "79/79 [==============================] - 11s 48ms/step - loss: 3.3853 - accuracy: 0.1256 - val_loss: 3.0771 - val_accuracy: 0.1310\n",
      "Epoch 2/300\n",
      "79/79 [==============================] - 3s 41ms/step - loss: 2.1841 - accuracy: 0.2931 - val_loss: 1.2703 - val_accuracy: 0.5560\n",
      "Epoch 3/300\n",
      "79/79 [==============================] - 4s 48ms/step - loss: 1.4931 - accuracy: 0.4801 - val_loss: 0.9238 - val_accuracy: 0.6539\n",
      "Epoch 4/300\n",
      "79/79 [==============================] - 3s 43ms/step - loss: 1.1731 - accuracy: 0.5975 - val_loss: 0.6684 - val_accuracy: 0.7432\n",
      "Epoch 5/300\n",
      "79/79 [==============================] - 3s 42ms/step - loss: 0.9569 - accuracy: 0.6689 - val_loss: 0.7877 - val_accuracy: 0.7417\n",
      "Epoch 6/300\n",
      "79/79 [==============================] - 3s 42ms/step - loss: 0.7894 - accuracy: 0.7367 - val_loss: 0.4207 - val_accuracy: 0.8515\n",
      "Epoch 7/300\n",
      "79/79 [==============================] - 3s 42ms/step - loss: 0.6750 - accuracy: 0.7695 - val_loss: 0.3169 - val_accuracy: 0.8762\n",
      "Epoch 8/300\n",
      "79/79 [==============================] - 3s 41ms/step - loss: 0.6156 - accuracy: 0.7990 - val_loss: 0.2811 - val_accuracy: 0.9054\n",
      "Epoch 9/300\n",
      "79/79 [==============================] - 3s 41ms/step - loss: 0.5655 - accuracy: 0.8138 - val_loss: 0.3501 - val_accuracy: 0.8789\n",
      "Epoch 10/300\n",
      "79/79 [==============================] - 3s 44ms/step - loss: 0.5018 - accuracy: 0.8345 - val_loss: 0.3377 - val_accuracy: 0.8929\n",
      "Epoch 11/300\n",
      "79/79 [==============================] - 3s 40ms/step - loss: 0.4724 - accuracy: 0.8471 - val_loss: 0.2013 - val_accuracy: 0.9363\n",
      "Epoch 12/300\n",
      "79/79 [==============================] - 4s 47ms/step - loss: 0.4572 - accuracy: 0.8565 - val_loss: 0.1905 - val_accuracy: 0.9402\n",
      "Epoch 13/300\n",
      "79/79 [==============================] - 4s 45ms/step - loss: 0.4203 - accuracy: 0.8648 - val_loss: 0.2371 - val_accuracy: 0.9238\n",
      "Epoch 14/300\n",
      "79/79 [==============================] - 3s 41ms/step - loss: 0.3945 - accuracy: 0.8737 - val_loss: 0.1734 - val_accuracy: 0.9432\n",
      "Epoch 15/300\n",
      "79/79 [==============================] - 3s 44ms/step - loss: 0.3904 - accuracy: 0.8766 - val_loss: 0.1700 - val_accuracy: 0.9479\n",
      "Epoch 16/300\n",
      "79/79 [==============================] - 3s 44ms/step - loss: 0.3708 - accuracy: 0.8799 - val_loss: 0.1434 - val_accuracy: 0.9545\n",
      "Epoch 17/300\n",
      "79/79 [==============================] - 3s 41ms/step - loss: 0.3709 - accuracy: 0.8853 - val_loss: 0.1384 - val_accuracy: 0.9577\n",
      "Epoch 18/300\n",
      "79/79 [==============================] - 3s 39ms/step - loss: 0.3437 - accuracy: 0.8925 - val_loss: 0.1532 - val_accuracy: 0.9542\n",
      "Epoch 19/300\n",
      "79/79 [==============================] - 3s 40ms/step - loss: 0.3318 - accuracy: 0.8989 - val_loss: 0.1344 - val_accuracy: 0.9622\n",
      "Epoch 20/300\n",
      "79/79 [==============================] - 4s 45ms/step - loss: 0.3282 - accuracy: 0.8976 - val_loss: 0.2652 - val_accuracy: 0.9131\n",
      "Epoch 21/300\n",
      "79/79 [==============================] - 4s 46ms/step - loss: 0.3106 - accuracy: 0.8992 - val_loss: 0.1710 - val_accuracy: 0.9482\n",
      "Epoch 22/300\n",
      "79/79 [==============================] - 3s 40ms/step - loss: 0.3029 - accuracy: 0.9080 - val_loss: 0.1988 - val_accuracy: 0.9476\n",
      "Epoch 23/300\n",
      "79/79 [==============================] - 3s 44ms/step - loss: 0.2868 - accuracy: 0.9100 - val_loss: 0.1139 - val_accuracy: 0.9661\n",
      "Epoch 24/300\n",
      "79/79 [==============================] - 3s 44ms/step - loss: 0.2933 - accuracy: 0.9080 - val_loss: 0.1742 - val_accuracy: 0.9497\n",
      "Epoch 25/300\n",
      "79/79 [==============================] - 3s 39ms/step - loss: 0.2847 - accuracy: 0.9141 - val_loss: 0.1563 - val_accuracy: 0.9557\n",
      "Epoch 26/300\n",
      "79/79 [==============================] - 3s 44ms/step - loss: 0.2737 - accuracy: 0.9139 - val_loss: 0.1214 - val_accuracy: 0.9676\n",
      "Epoch 27/300\n",
      "79/79 [==============================] - 3s 40ms/step - loss: 0.2579 - accuracy: 0.9229 - val_loss: 0.1792 - val_accuracy: 0.9479\n",
      "Epoch 28/300\n",
      "79/79 [==============================] - 3s 42ms/step - loss: 0.2716 - accuracy: 0.9169 - val_loss: 0.1893 - val_accuracy: 0.9485\n",
      "Epoch 29/300\n",
      "79/79 [==============================] - 3s 43ms/step - loss: 0.2690 - accuracy: 0.9171 - val_loss: 0.1369 - val_accuracy: 0.9595\n",
      "Epoch 30/300\n",
      "79/79 [==============================] - 4s 51ms/step - loss: 0.2582 - accuracy: 0.9211 - val_loss: 0.1102 - val_accuracy: 0.9670\n",
      "Epoch 31/300\n",
      "79/79 [==============================] - 3s 42ms/step - loss: 0.2534 - accuracy: 0.9211 - val_loss: 0.1593 - val_accuracy: 0.9527\n",
      "Epoch 32/300\n",
      "79/79 [==============================] - 3s 43ms/step - loss: 0.2655 - accuracy: 0.9203 - val_loss: 0.1125 - val_accuracy: 0.9658\n",
      "Epoch 33/300\n",
      "79/79 [==============================] - 4s 46ms/step - loss: 0.2358 - accuracy: 0.9260 - val_loss: 0.0971 - val_accuracy: 0.9744\n",
      "Epoch 34/300\n",
      "79/79 [==============================] - 3s 42ms/step - loss: 0.2566 - accuracy: 0.9242 - val_loss: 0.1202 - val_accuracy: 0.9673\n",
      "Epoch 35/300\n",
      "79/79 [==============================] - 3s 44ms/step - loss: 0.2309 - accuracy: 0.9300 - val_loss: 0.3297 - val_accuracy: 0.9125\n",
      "Epoch 36/300\n",
      "79/79 [==============================] - 3s 40ms/step - loss: 0.2558 - accuracy: 0.9248 - val_loss: 0.2080 - val_accuracy: 0.9333\n",
      "Epoch 37/300\n",
      "79/79 [==============================] - 3s 41ms/step - loss: 0.2305 - accuracy: 0.9297 - val_loss: 0.1222 - val_accuracy: 0.9693\n",
      "Epoch 38/300\n",
      "79/79 [==============================] - 3s 39ms/step - loss: 0.2394 - accuracy: 0.9309 - val_loss: 0.1123 - val_accuracy: 0.9708\n",
      "Epoch 39/300\n",
      "79/79 [==============================] - 4s 45ms/step - loss: 0.2153 - accuracy: 0.9346 - val_loss: 0.1390 - val_accuracy: 0.9637\n",
      "Epoch 40/300\n",
      "79/79 [==============================] - 3s 42ms/step - loss: 0.2298 - accuracy: 0.9287 - val_loss: 0.1145 - val_accuracy: 0.9702\n",
      "Epoch 41/300\n",
      "79/79 [==============================] - 4s 45ms/step - loss: 0.2228 - accuracy: 0.9328 - val_loss: 0.1221 - val_accuracy: 0.9688\n",
      "Epoch 42/300\n",
      "79/79 [==============================] - 3s 43ms/step - loss: 0.2239 - accuracy: 0.9338 - val_loss: 0.1565 - val_accuracy: 0.9619\n",
      "Epoch 43/300\n",
      "79/79 [==============================] - 3s 40ms/step - loss: 0.2147 - accuracy: 0.9396 - val_loss: 0.2877 - val_accuracy: 0.9235\n",
      "Epoch 44/300\n",
      "79/79 [==============================] - 3s 40ms/step - loss: 0.2291 - accuracy: 0.9342 - val_loss: 0.4726 - val_accuracy: 0.8369\n",
      "Epoch 45/300\n",
      "79/79 [==============================] - 3s 44ms/step - loss: 0.2190 - accuracy: 0.9353 - val_loss: 0.1099 - val_accuracy: 0.9720\n",
      "Epoch 46/300\n",
      "79/79 [==============================] - 3s 40ms/step - loss: 0.2125 - accuracy: 0.9358 - val_loss: 0.4011 - val_accuracy: 0.8884\n",
      "Epoch 47/300\n",
      "79/79 [==============================] - 3s 40ms/step - loss: 0.2315 - accuracy: 0.9335 - val_loss: 0.1225 - val_accuracy: 0.9655\n",
      "Epoch 48/300\n",
      "79/79 [==============================] - 3s 43ms/step - loss: 0.2278 - accuracy: 0.9361 - val_loss: 0.1090 - val_accuracy: 0.9699\n",
      "Epoch 49/300\n",
      "79/79 [==============================] - 4s 46ms/step - loss: 0.2174 - accuracy: 0.9360 - val_loss: 0.0974 - val_accuracy: 0.9750\n",
      "Epoch 50/300\n",
      "79/79 [==============================] - 3s 40ms/step - loss: 0.1968 - accuracy: 0.9420 - val_loss: 0.1044 - val_accuracy: 0.9768\n",
      "Epoch 51/300\n",
      "79/79 [==============================] - 4s 51ms/step - loss: 0.2158 - accuracy: 0.9381 - val_loss: 0.2615 - val_accuracy: 0.9185\n",
      "Epoch 52/300\n",
      "79/79 [==============================] - 3s 41ms/step - loss: 0.2061 - accuracy: 0.9412 - val_loss: 0.1198 - val_accuracy: 0.9702\n",
      "Epoch 53/300\n",
      "79/79 [==============================] - 3s 40ms/step - loss: 0.2116 - accuracy: 0.9383 - val_loss: 0.1298 - val_accuracy: 0.9643\n",
      "Epoch 54/300\n",
      "79/79 [==============================] - 4s 45ms/step - loss: 0.1986 - accuracy: 0.9420 - val_loss: 0.1210 - val_accuracy: 0.9723\n",
      "Epoch 55/300\n",
      "79/79 [==============================] - 3s 40ms/step - loss: 0.2119 - accuracy: 0.9377 - val_loss: 0.1300 - val_accuracy: 0.9702\n",
      "Epoch 56/300\n",
      "79/79 [==============================] - 3s 40ms/step - loss: 0.2105 - accuracy: 0.9394 - val_loss: 0.1387 - val_accuracy: 0.9673\n",
      "Epoch 57/300\n",
      "79/79 [==============================] - 3s 41ms/step - loss: 0.2075 - accuracy: 0.9393 - val_loss: 0.1074 - val_accuracy: 0.9756\n",
      "Epoch 58/300\n",
      "79/79 [==============================] - 4s 51ms/step - loss: 0.2110 - accuracy: 0.9392 - val_loss: 0.1027 - val_accuracy: 0.9759\n",
      "Epoch 59/300\n",
      "79/79 [==============================] - 3s 39ms/step - loss: 0.2072 - accuracy: 0.9394 - val_loss: 0.1157 - val_accuracy: 0.9696\n",
      "Epoch 60/300\n",
      "79/79 [==============================] - 4s 46ms/step - loss: 0.1936 - accuracy: 0.9443 - val_loss: 0.1094 - val_accuracy: 0.9723\n",
      "Epoch 61/300\n",
      "79/79 [==============================] - 3s 44ms/step - loss: 0.2208 - accuracy: 0.9386 - val_loss: 0.1025 - val_accuracy: 0.9720\n",
      "Epoch 62/300\n",
      "79/79 [==============================] - 3s 42ms/step - loss: 0.1818 - accuracy: 0.9441 - val_loss: 0.1352 - val_accuracy: 0.9720\n",
      "Epoch 63/300\n",
      "79/79 [==============================] - 3s 39ms/step - loss: 0.1987 - accuracy: 0.9438 - val_loss: 0.1869 - val_accuracy: 0.9452\n",
      "Epoch 64/300\n",
      "79/79 [==============================] - 3s 43ms/step - loss: 0.1776 - accuracy: 0.9456 - val_loss: 0.1189 - val_accuracy: 0.9696\n",
      "Epoch 65/300\n",
      "79/79 [==============================] - 3s 41ms/step - loss: 0.1844 - accuracy: 0.9454 - val_loss: 0.1036 - val_accuracy: 0.9723\n",
      "Epoch 66/300\n",
      "79/79 [==============================] - 3s 39ms/step - loss: 0.1763 - accuracy: 0.9517 - val_loss: 0.2164 - val_accuracy: 0.9414\n",
      "Epoch 67/300\n",
      "79/79 [==============================] - 3s 41ms/step - loss: 0.2026 - accuracy: 0.9451 - val_loss: 0.1062 - val_accuracy: 0.9741\n",
      "Epoch 68/300\n",
      "79/79 [==============================] - 3s 39ms/step - loss: 0.1851 - accuracy: 0.9468 - val_loss: 0.1055 - val_accuracy: 0.9744\n",
      "Epoch 69/300\n",
      "79/79 [==============================] - 4s 48ms/step - loss: 0.1892 - accuracy: 0.9454 - val_loss: 0.1627 - val_accuracy: 0.9583\n",
      "Epoch 70/300\n",
      "79/79 [==============================] - 4s 44ms/step - loss: 0.1924 - accuracy: 0.9457 - val_loss: 0.1042 - val_accuracy: 0.9738\n",
      "Epoch 71/300\n",
      "79/79 [==============================] - 3s 43ms/step - loss: 0.1831 - accuracy: 0.9463 - val_loss: 0.1145 - val_accuracy: 0.9714\n",
      "Epoch 72/300\n",
      "79/79 [==============================] - 3s 40ms/step - loss: 0.1894 - accuracy: 0.9453 - val_loss: 0.1401 - val_accuracy: 0.9646\n",
      "Epoch 73/300\n",
      "79/79 [==============================] - 3s 42ms/step - loss: 0.1840 - accuracy: 0.9482 - val_loss: 0.8507 - val_accuracy: 0.7735\n",
      "Epoch 74/300\n",
      "79/79 [==============================] - 3s 41ms/step - loss: 0.1876 - accuracy: 0.9489 - val_loss: 0.1166 - val_accuracy: 0.9738\n",
      "Epoch 75/300\n",
      "79/79 [==============================] - 3s 39ms/step - loss: 0.2065 - accuracy: 0.9428 - val_loss: 0.0948 - val_accuracy: 0.9753\n",
      "Epoch 76/300\n",
      "79/79 [==============================] - 4s 49ms/step - loss: 0.1751 - accuracy: 0.9533 - val_loss: 0.5567 - val_accuracy: 0.8417\n",
      "Epoch 77/300\n",
      "79/79 [==============================] - 3s 42ms/step - loss: 0.1851 - accuracy: 0.9526 - val_loss: 0.1348 - val_accuracy: 0.9655\n",
      "Epoch 78/300\n",
      "79/79 [==============================] - 3s 40ms/step - loss: 0.1847 - accuracy: 0.9459 - val_loss: 0.4919 - val_accuracy: 0.8682\n",
      "Epoch 79/300\n",
      "79/79 [==============================] - 3s 44ms/step - loss: 0.1833 - accuracy: 0.9475 - val_loss: 0.1112 - val_accuracy: 0.9729\n",
      "Epoch 80/300\n",
      "79/79 [==============================] - 3s 42ms/step - loss: 0.1839 - accuracy: 0.9489 - val_loss: 0.1435 - val_accuracy: 0.9619\n",
      "Epoch 81/300\n",
      "79/79 [==============================] - 3s 41ms/step - loss: 0.1747 - accuracy: 0.9521 - val_loss: 0.1900 - val_accuracy: 0.9580\n",
      "Epoch 82/300\n",
      "79/79 [==============================] - 3s 43ms/step - loss: 0.1686 - accuracy: 0.9504 - val_loss: 0.1107 - val_accuracy: 0.9750\n",
      "Epoch 83/300\n",
      "79/79 [==============================] - 3s 39ms/step - loss: 0.1621 - accuracy: 0.9535 - val_loss: 0.0996 - val_accuracy: 0.9792\n",
      "Epoch 84/300\n",
      "79/79 [==============================] - 3s 39ms/step - loss: 0.1782 - accuracy: 0.9488 - val_loss: 0.1648 - val_accuracy: 0.9643\n",
      "Epoch 85/300\n",
      "79/79 [==============================] - 4s 47ms/step - loss: 0.1769 - accuracy: 0.9515 - val_loss: 0.0974 - val_accuracy: 0.9810\n",
      "Epoch 86/300\n",
      "79/79 [==============================] - 4s 49ms/step - loss: 0.1710 - accuracy: 0.9524 - val_loss: 0.1462 - val_accuracy: 0.9616\n",
      "Epoch 87/300\n",
      "79/79 [==============================] - 3s 40ms/step - loss: 0.1813 - accuracy: 0.9486 - val_loss: 0.2670 - val_accuracy: 0.9372\n",
      "Epoch 88/300\n",
      "79/79 [==============================] - 3s 43ms/step - loss: 0.1648 - accuracy: 0.9536 - val_loss: 0.1140 - val_accuracy: 0.9747\n",
      "Epoch 89/300\n",
      "79/79 [==============================] - 3s 40ms/step - loss: 0.1731 - accuracy: 0.9517 - val_loss: 0.1225 - val_accuracy: 0.9735\n",
      "Epoch 90/300\n",
      "79/79 [==============================] - 3s 40ms/step - loss: 0.1859 - accuracy: 0.9476 - val_loss: 0.1015 - val_accuracy: 0.9774\n",
      "Epoch 91/300\n",
      "79/79 [==============================] - 3s 41ms/step - loss: 0.1804 - accuracy: 0.9513 - val_loss: 0.1175 - val_accuracy: 0.9682\n",
      "Epoch 92/300\n",
      "79/79 [==============================] - 4s 44ms/step - loss: 0.1477 - accuracy: 0.9594 - val_loss: 0.1153 - val_accuracy: 0.9735\n",
      "Epoch 93/300\n",
      "79/79 [==============================] - 3s 41ms/step - loss: 0.1831 - accuracy: 0.9513 - val_loss: 0.1113 - val_accuracy: 0.9708\n",
      "Epoch 94/300\n",
      "79/79 [==============================] - 4s 45ms/step - loss: 0.1614 - accuracy: 0.9562 - val_loss: 0.1289 - val_accuracy: 0.9708\n",
      "Epoch 95/300\n",
      "79/79 [==============================] - 4s 53ms/step - loss: 0.1810 - accuracy: 0.9491 - val_loss: 0.1172 - val_accuracy: 0.9759\n",
      "Epoch 96/300\n",
      "79/79 [==============================] - 3s 39ms/step - loss: 0.1873 - accuracy: 0.9479 - val_loss: 0.2892 - val_accuracy: 0.9092\n",
      "Epoch 97/300\n",
      "79/79 [==============================] - 3s 41ms/step - loss: 0.1691 - accuracy: 0.9536 - val_loss: 0.0961 - val_accuracy: 0.9789\n",
      "Epoch 98/300\n",
      "79/79 [==============================] - 4s 48ms/step - loss: 0.1789 - accuracy: 0.9481 - val_loss: 0.0940 - val_accuracy: 0.9780\n",
      "Epoch 99/300\n",
      "79/79 [==============================] - 3s 41ms/step - loss: 0.1698 - accuracy: 0.9504 - val_loss: 0.0911 - val_accuracy: 0.9804\n",
      "Epoch 100/300\n",
      "79/79 [==============================] - 3s 42ms/step - loss: 0.1636 - accuracy: 0.9567 - val_loss: 0.0981 - val_accuracy: 0.9744\n",
      "Epoch 101/300\n",
      "79/79 [==============================] - 3s 44ms/step - loss: 0.1582 - accuracy: 0.9564 - val_loss: 0.1228 - val_accuracy: 0.9732\n",
      "Epoch 102/300\n",
      "79/79 [==============================] - 3s 40ms/step - loss: 0.1695 - accuracy: 0.9533 - val_loss: 0.1063 - val_accuracy: 0.9771\n",
      "Epoch 103/300\n",
      "79/79 [==============================] - 3s 40ms/step - loss: 0.1696 - accuracy: 0.9533 - val_loss: 0.1181 - val_accuracy: 0.9753\n",
      "Epoch 104/300\n",
      "79/79 [==============================] - 5s 61ms/step - loss: 0.1685 - accuracy: 0.9538 - val_loss: 0.1283 - val_accuracy: 0.9705\n",
      "Epoch 105/300\n",
      "79/79 [==============================] - 3s 41ms/step - loss: 0.1711 - accuracy: 0.9512 - val_loss: 0.1098 - val_accuracy: 0.9762\n",
      "Epoch 106/300\n",
      "79/79 [==============================] - 3s 41ms/step - loss: 0.1690 - accuracy: 0.9538 - val_loss: 0.1520 - val_accuracy: 0.9667\n",
      "Epoch 107/300\n",
      "79/79 [==============================] - 3s 44ms/step - loss: 0.1751 - accuracy: 0.9519 - val_loss: 0.0920 - val_accuracy: 0.9768\n",
      "Epoch 108/300\n",
      "79/79 [==============================] - 3s 41ms/step - loss: 0.1677 - accuracy: 0.9527 - val_loss: 1.5080 - val_accuracy: 0.6217\n",
      "Epoch 109/300\n",
      "79/79 [==============================] - 3s 40ms/step - loss: 0.1687 - accuracy: 0.9542 - val_loss: 0.1029 - val_accuracy: 0.9777\n",
      "Epoch 110/300\n",
      "79/79 [==============================] - 4s 45ms/step - loss: 0.1695 - accuracy: 0.9528 - val_loss: 0.0925 - val_accuracy: 0.9756\n",
      "Epoch 111/300\n",
      "79/79 [==============================] - 3s 42ms/step - loss: 0.1701 - accuracy: 0.9541 - val_loss: 0.1214 - val_accuracy: 0.9717\n",
      "Epoch 112/300\n",
      "79/79 [==============================] - 3s 39ms/step - loss: 0.1476 - accuracy: 0.9590 - val_loss: 0.0990 - val_accuracy: 0.9747\n",
      "Epoch 113/300\n",
      "79/79 [==============================] - 4s 53ms/step - loss: 0.1632 - accuracy: 0.9557 - val_loss: 0.4800 - val_accuracy: 0.8935\n",
      "Epoch 114/300\n",
      "79/79 [==============================] - 4s 50ms/step - loss: 0.1581 - accuracy: 0.9551 - val_loss: 0.1255 - val_accuracy: 0.9705\n",
      "Epoch 115/300\n",
      "79/79 [==============================] - 3s 41ms/step - loss: 0.1617 - accuracy: 0.9563 - val_loss: 0.1256 - val_accuracy: 0.9729\n",
      "Epoch 116/300\n",
      "79/79 [==============================] - 3s 41ms/step - loss: 0.1733 - accuracy: 0.9551 - val_loss: 0.1191 - val_accuracy: 0.9732\n",
      "Epoch 117/300\n",
      "79/79 [==============================] - 3s 41ms/step - loss: 0.1630 - accuracy: 0.9541 - val_loss: 0.0991 - val_accuracy: 0.9756\n",
      "Epoch 118/300\n",
      "79/79 [==============================] - 3s 41ms/step - loss: 0.1555 - accuracy: 0.9575 - val_loss: 0.0941 - val_accuracy: 0.9771\n",
      "Epoch 119/300\n",
      "79/79 [==============================] - 4s 45ms/step - loss: 0.1551 - accuracy: 0.9582 - val_loss: 0.1069 - val_accuracy: 0.9744\n",
      "Epoch 120/300\n",
      "79/79 [==============================] - 3s 40ms/step - loss: 0.1670 - accuracy: 0.9534 - val_loss: 0.1151 - val_accuracy: 0.9732\n",
      "Epoch 121/300\n",
      "79/79 [==============================] - 3s 42ms/step - loss: 0.1429 - accuracy: 0.9615 - val_loss: 0.1015 - val_accuracy: 0.9777\n",
      "Epoch 122/300\n",
      "79/79 [==============================] - 5s 59ms/step - loss: 0.1721 - accuracy: 0.9533 - val_loss: 0.1110 - val_accuracy: 0.9723\n",
      "Epoch 123/300\n",
      "79/79 [==============================] - 3s 40ms/step - loss: 0.1554 - accuracy: 0.9593 - val_loss: 3.3716 - val_accuracy: 0.4592\n",
      "Epoch 124/300\n",
      "79/79 [==============================] - 3s 39ms/step - loss: 0.1688 - accuracy: 0.9547 - val_loss: 0.1238 - val_accuracy: 0.9744\n",
      "Epoch 125/300\n",
      "79/79 [==============================] - 3s 42ms/step - loss: 0.1544 - accuracy: 0.9603 - val_loss: 0.1046 - val_accuracy: 0.9759\n",
      "Epoch 126/300\n",
      "79/79 [==============================] - 3s 40ms/step - loss: 0.1578 - accuracy: 0.9584 - val_loss: 0.1097 - val_accuracy: 0.9753\n",
      "Epoch 127/300\n",
      "79/79 [==============================] - 3s 41ms/step - loss: 0.1528 - accuracy: 0.9610 - val_loss: 0.0962 - val_accuracy: 0.9795\n",
      "Epoch 128/300\n",
      "79/79 [==============================] - 3s 40ms/step - loss: 0.1596 - accuracy: 0.9562 - val_loss: 0.1227 - val_accuracy: 0.9705\n",
      "Epoch 129/300\n",
      "79/79 [==============================] - 3s 42ms/step - loss: 0.1575 - accuracy: 0.9567 - val_loss: 0.0901 - val_accuracy: 0.9830\n",
      "Epoch 130/300\n",
      "79/79 [==============================] - 3s 41ms/step - loss: 0.1587 - accuracy: 0.9580 - val_loss: 0.1587 - val_accuracy: 0.9595\n",
      "Epoch 131/300\n",
      "79/79 [==============================] - 4s 46ms/step - loss: 0.1616 - accuracy: 0.9562 - val_loss: 0.1282 - val_accuracy: 0.9702\n",
      "Epoch 132/300\n",
      "79/79 [==============================] - 5s 58ms/step - loss: 0.1453 - accuracy: 0.9591 - val_loss: 0.3101 - val_accuracy: 0.9223\n",
      "Epoch 133/300\n",
      "79/79 [==============================] - 3s 40ms/step - loss: 0.1517 - accuracy: 0.9603 - val_loss: 0.1091 - val_accuracy: 0.9798\n",
      "Epoch 134/300\n",
      "79/79 [==============================] - 3s 39ms/step - loss: 0.1530 - accuracy: 0.9585 - val_loss: 0.4144 - val_accuracy: 0.9125\n",
      "Epoch 135/300\n",
      "79/79 [==============================] - 3s 43ms/step - loss: 0.1540 - accuracy: 0.9585 - val_loss: 0.0925 - val_accuracy: 0.9762\n",
      "Epoch 136/300\n",
      "79/79 [==============================] - 3s 42ms/step - loss: 0.1571 - accuracy: 0.9572 - val_loss: 0.0959 - val_accuracy: 0.9783\n",
      "Epoch 137/300\n",
      "79/79 [==============================] - 3s 40ms/step - loss: 0.1433 - accuracy: 0.9625 - val_loss: 0.0938 - val_accuracy: 0.9795\n",
      "Epoch 138/300\n",
      "79/79 [==============================] - 3s 44ms/step - loss: 0.1495 - accuracy: 0.9603 - val_loss: 0.1133 - val_accuracy: 0.9765\n",
      "Epoch 139/300\n",
      "79/79 [==============================] - 3s 39ms/step - loss: 0.1502 - accuracy: 0.9593 - val_loss: 0.1092 - val_accuracy: 0.9771\n",
      "Epoch 140/300\n",
      "79/79 [==============================] - 4s 49ms/step - loss: 0.1608 - accuracy: 0.9586 - val_loss: 0.1086 - val_accuracy: 0.9759\n",
      "Epoch 141/300\n",
      "79/79 [==============================] - 4s 49ms/step - loss: 0.1667 - accuracy: 0.9587 - val_loss: 0.1977 - val_accuracy: 0.9554\n",
      "Epoch 142/300\n",
      "79/79 [==============================] - 4s 49ms/step - loss: 0.1717 - accuracy: 0.9560 - val_loss: 0.1649 - val_accuracy: 0.9649\n",
      "Epoch 143/300\n",
      "79/79 [==============================] - 3s 40ms/step - loss: 0.1665 - accuracy: 0.9577 - val_loss: 0.1196 - val_accuracy: 0.9759\n",
      "Epoch 144/300\n",
      "79/79 [==============================] - 3s 42ms/step - loss: 0.1398 - accuracy: 0.9600 - val_loss: 0.1027 - val_accuracy: 0.9815\n",
      "Epoch 145/300\n",
      "79/79 [==============================] - 3s 42ms/step - loss: 0.1379 - accuracy: 0.9618 - val_loss: 0.1186 - val_accuracy: 0.9735\n",
      "Epoch 146/300\n",
      "79/79 [==============================] - 3s 41ms/step - loss: 0.1551 - accuracy: 0.9605 - val_loss: 0.1218 - val_accuracy: 0.9801\n",
      "Epoch 147/300\n",
      "79/79 [==============================] - 3s 41ms/step - loss: 0.1390 - accuracy: 0.9624 - val_loss: 3.3152 - val_accuracy: 0.4848\n",
      "Epoch 148/300\n",
      "79/79 [==============================] - 4s 49ms/step - loss: 0.1318 - accuracy: 0.9620 - val_loss: 0.1083 - val_accuracy: 0.9801\n",
      "Epoch 149/300\n",
      "79/79 [==============================] - 4s 48ms/step - loss: 0.1586 - accuracy: 0.9591 - val_loss: 0.1139 - val_accuracy: 0.9792\n",
      "Epoch 150/300\n",
      "79/79 [==============================] - 3s 39ms/step - loss: 0.1329 - accuracy: 0.9621 - val_loss: 0.1072 - val_accuracy: 0.9786\n",
      "Epoch 151/300\n",
      "79/79 [==============================] - 5s 64ms/step - loss: 0.1455 - accuracy: 0.9588 - val_loss: 0.0996 - val_accuracy: 0.9792\n",
      "Epoch 152/300\n",
      "79/79 [==============================] - 3s 40ms/step - loss: 0.1538 - accuracy: 0.9597 - val_loss: 0.7243 - val_accuracy: 0.8146\n",
      "Epoch 153/300\n",
      "79/79 [==============================] - 4s 45ms/step - loss: 0.1433 - accuracy: 0.9612 - val_loss: 0.1102 - val_accuracy: 0.9804\n",
      "Epoch 154/300\n",
      "79/79 [==============================] - 4s 45ms/step - loss: 0.1294 - accuracy: 0.9630 - val_loss: 0.1143 - val_accuracy: 0.9783\n",
      "Epoch 155/300\n",
      "79/79 [==============================] - 3s 41ms/step - loss: 0.1336 - accuracy: 0.9637 - val_loss: 0.1101 - val_accuracy: 0.9762\n",
      "Epoch 156/300\n",
      "79/79 [==============================] - 3s 40ms/step - loss: 0.1284 - accuracy: 0.9622 - val_loss: 0.1541 - val_accuracy: 0.9717\n",
      "Epoch 157/300\n",
      "79/79 [==============================] - 4s 46ms/step - loss: 0.1427 - accuracy: 0.9609 - val_loss: 0.3327 - val_accuracy: 0.9140\n",
      "Epoch 158/300\n",
      "79/79 [==============================] - 4s 49ms/step - loss: 0.1439 - accuracy: 0.9627 - val_loss: 0.0991 - val_accuracy: 0.9827\n",
      "Epoch 159/300\n",
      "79/79 [==============================] - 3s 41ms/step - loss: 0.1489 - accuracy: 0.9588 - val_loss: 0.1202 - val_accuracy: 0.9762\n",
      "Epoch 160/300\n",
      "79/79 [==============================] - 5s 59ms/step - loss: 0.1330 - accuracy: 0.9630 - val_loss: 0.1093 - val_accuracy: 0.9771\n",
      "Epoch 161/300\n",
      "79/79 [==============================] - 4s 44ms/step - loss: 0.1460 - accuracy: 0.9600 - val_loss: 2.5793 - val_accuracy: 0.5649\n",
      "Epoch 162/300\n",
      "79/79 [==============================] - 3s 41ms/step - loss: 0.1334 - accuracy: 0.9633 - val_loss: 0.1056 - val_accuracy: 0.9807\n",
      "Epoch 163/300\n",
      "79/79 [==============================] - 3s 44ms/step - loss: 0.1472 - accuracy: 0.9585 - val_loss: 0.1102 - val_accuracy: 0.9801\n",
      "Epoch 164/300\n",
      "79/79 [==============================] - 3s 44ms/step - loss: 0.1412 - accuracy: 0.9619 - val_loss: 0.1110 - val_accuracy: 0.9795\n",
      "Epoch 165/300\n",
      "79/79 [==============================] - 3s 40ms/step - loss: 0.1409 - accuracy: 0.9622 - val_loss: 0.1124 - val_accuracy: 0.9750\n",
      "Epoch 166/300\n",
      "79/79 [==============================] - 4s 47ms/step - loss: 0.1436 - accuracy: 0.9618 - val_loss: 0.1055 - val_accuracy: 0.9792\n",
      "Epoch 167/300\n",
      "79/79 [==============================] - 4s 48ms/step - loss: 0.1343 - accuracy: 0.9614 - val_loss: 1.8949 - val_accuracy: 0.7128\n",
      "Epoch 168/300\n",
      "79/79 [==============================] - 3s 40ms/step - loss: 0.1674 - accuracy: 0.9589 - val_loss: 0.1075 - val_accuracy: 0.9777\n",
      "Epoch 169/300\n",
      "79/79 [==============================] - 4s 49ms/step - loss: 0.1529 - accuracy: 0.9589 - val_loss: 0.1256 - val_accuracy: 0.9726\n",
      "Epoch 170/300\n",
      "79/79 [==============================] - 5s 58ms/step - loss: 0.1415 - accuracy: 0.9614 - val_loss: 0.2886 - val_accuracy: 0.9211\n",
      "Epoch 171/300\n",
      "79/79 [==============================] - 3s 41ms/step - loss: 0.1440 - accuracy: 0.9637 - val_loss: 0.1273 - val_accuracy: 0.9756\n",
      "Epoch 172/300\n",
      "79/79 [==============================] - 3s 43ms/step - loss: 0.1521 - accuracy: 0.9593 - val_loss: 0.1516 - val_accuracy: 0.9679\n",
      "Epoch 173/300\n",
      "79/79 [==============================] - 3s 42ms/step - loss: 0.1452 - accuracy: 0.9605 - val_loss: 0.1661 - val_accuracy: 0.9679\n",
      "Epoch 174/300\n",
      "79/79 [==============================] - 3s 42ms/step - loss: 0.1469 - accuracy: 0.9603 - val_loss: 0.1565 - val_accuracy: 0.9759\n",
      "Epoch 175/300\n",
      "79/79 [==============================] - 4s 46ms/step - loss: 0.1336 - accuracy: 0.9659 - val_loss: 0.1339 - val_accuracy: 0.9807\n",
      "Epoch 176/300\n",
      "79/79 [==============================] - 4s 47ms/step - loss: 0.1273 - accuracy: 0.9665 - val_loss: 0.0972 - val_accuracy: 0.9815\n",
      "Epoch 177/300\n",
      "79/79 [==============================] - 3s 42ms/step - loss: 0.1461 - accuracy: 0.9620 - val_loss: 0.0983 - val_accuracy: 0.9821\n",
      "Epoch 178/300\n",
      "79/79 [==============================] - 4s 46ms/step - loss: 0.1349 - accuracy: 0.9647 - val_loss: 0.2045 - val_accuracy: 0.9592\n",
      "Epoch 179/300\n",
      "79/79 [==============================] - 5s 61ms/step - loss: 0.1395 - accuracy: 0.9623 - val_loss: 0.2584 - val_accuracy: 0.9414\n",
      "Epoch 180/300\n",
      "79/79 [==============================] - 3s 43ms/step - loss: 0.1374 - accuracy: 0.9628 - val_loss: 0.1160 - val_accuracy: 0.9786\n",
      "Epoch 181/300\n",
      "79/79 [==============================] - 4s 46ms/step - loss: 0.1469 - accuracy: 0.9606 - val_loss: 0.1003 - val_accuracy: 0.9786\n",
      "Epoch 182/300\n",
      "79/79 [==============================] - 3s 43ms/step - loss: 0.1448 - accuracy: 0.9602 - val_loss: 0.0969 - val_accuracy: 0.9830\n",
      "Epoch 183/300\n",
      "79/79 [==============================] - 3s 41ms/step - loss: 0.1345 - accuracy: 0.9636 - val_loss: 0.1247 - val_accuracy: 0.9753\n",
      "Epoch 184/300\n",
      "79/79 [==============================] - 3s 44ms/step - loss: 0.1437 - accuracy: 0.9627 - val_loss: 0.1338 - val_accuracy: 0.9738\n",
      "Epoch 185/300\n",
      "79/79 [==============================] - 4s 48ms/step - loss: 0.1593 - accuracy: 0.9564 - val_loss: 0.0996 - val_accuracy: 0.9807\n",
      "Epoch 186/300\n",
      "79/79 [==============================] - 3s 42ms/step - loss: 0.1328 - accuracy: 0.9627 - val_loss: 0.1130 - val_accuracy: 0.9780\n",
      "Epoch 187/300\n",
      "79/79 [==============================] - 4s 45ms/step - loss: 0.1290 - accuracy: 0.9641 - val_loss: 0.1034 - val_accuracy: 0.9774\n",
      "Epoch 188/300\n",
      "79/79 [==============================] - 4s 53ms/step - loss: 0.1441 - accuracy: 0.9629 - val_loss: 0.1261 - val_accuracy: 0.9792\n",
      "Epoch 189/300\n",
      "79/79 [==============================] - 4s 47ms/step - loss: 0.1401 - accuracy: 0.9636 - val_loss: 0.1059 - val_accuracy: 0.9801\n",
      "Epoch 190/300\n",
      "79/79 [==============================] - 4s 47ms/step - loss: 0.1418 - accuracy: 0.9610 - val_loss: 0.5543 - val_accuracy: 0.8804\n",
      "Epoch 191/300\n",
      "79/79 [==============================] - 3s 42ms/step - loss: 0.1296 - accuracy: 0.9643 - val_loss: 0.1115 - val_accuracy: 0.9807\n",
      "Epoch 192/300\n",
      "79/79 [==============================] - 3s 41ms/step - loss: 0.1379 - accuracy: 0.9621 - val_loss: 0.1183 - val_accuracy: 0.9771\n",
      "Epoch 193/300\n",
      "79/79 [==============================] - 4s 46ms/step - loss: 0.1463 - accuracy: 0.9602 - val_loss: 0.1343 - val_accuracy: 0.9735\n",
      "Epoch 194/300\n",
      "79/79 [==============================] - 4s 46ms/step - loss: 0.1351 - accuracy: 0.9666 - val_loss: 0.4918 - val_accuracy: 0.8726\n",
      "Epoch 195/300\n",
      "79/79 [==============================] - 3s 40ms/step - loss: 0.1403 - accuracy: 0.9646 - val_loss: 4.2356 - val_accuracy: 0.5387\n",
      "Epoch 196/300\n",
      "79/79 [==============================] - 4s 44ms/step - loss: 0.1331 - accuracy: 0.9633 - val_loss: 0.1227 - val_accuracy: 0.9801\n",
      "Epoch 197/300\n",
      "79/79 [==============================] - 3s 40ms/step - loss: 0.1312 - accuracy: 0.9643 - val_loss: 0.1277 - val_accuracy: 0.9812\n",
      "Epoch 198/300\n",
      "79/79 [==============================] - 5s 63ms/step - loss: 0.1310 - accuracy: 0.9648 - val_loss: 0.1299 - val_accuracy: 0.9744\n",
      "Epoch 199/300\n",
      "79/79 [==============================] - 3s 44ms/step - loss: 0.1317 - accuracy: 0.9661 - val_loss: 0.1114 - val_accuracy: 0.9818\n",
      "Epoch 200/300\n",
      "79/79 [==============================] - 3s 42ms/step - loss: 0.1355 - accuracy: 0.9633 - val_loss: 0.1525 - val_accuracy: 0.9744\n",
      "Epoch 201/300\n",
      "79/79 [==============================] - 3s 42ms/step - loss: 0.1193 - accuracy: 0.9676 - val_loss: 0.1014 - val_accuracy: 0.9795\n",
      "Epoch 202/300\n",
      "79/79 [==============================] - 3s 43ms/step - loss: 0.1405 - accuracy: 0.9634 - val_loss: 0.1008 - val_accuracy: 0.9765\n",
      "Epoch 203/300\n",
      "79/79 [==============================] - 4s 44ms/step - loss: 0.1240 - accuracy: 0.9649 - val_loss: 0.1292 - val_accuracy: 0.9780\n",
      "Epoch 204/300\n",
      "79/79 [==============================] - 3s 42ms/step - loss: 0.1535 - accuracy: 0.9616 - val_loss: 0.1087 - val_accuracy: 0.9783\n",
      "Epoch 205/300\n",
      "79/79 [==============================] - 3s 43ms/step - loss: 0.1607 - accuracy: 0.9633 - val_loss: 0.1537 - val_accuracy: 0.9696\n",
      "Epoch 206/300\n",
      "79/79 [==============================] - 3s 40ms/step - loss: 0.1449 - accuracy: 0.9631 - val_loss: 0.1147 - val_accuracy: 0.9821\n",
      "Epoch 207/300\n",
      "79/79 [==============================] - 5s 60ms/step - loss: 0.1370 - accuracy: 0.9641 - val_loss: 0.0870 - val_accuracy: 0.9818\n",
      "Epoch 208/300\n",
      "79/79 [==============================] - 3s 44ms/step - loss: 0.1204 - accuracy: 0.9679 - val_loss: 0.1588 - val_accuracy: 0.9735\n",
      "Epoch 209/300\n",
      "79/79 [==============================] - 3s 42ms/step - loss: 0.1253 - accuracy: 0.9673 - val_loss: 0.1147 - val_accuracy: 0.9812\n",
      "Epoch 210/300\n",
      "79/79 [==============================] - 3s 42ms/step - loss: 0.1265 - accuracy: 0.9656 - val_loss: 0.1164 - val_accuracy: 0.9807\n",
      "Epoch 211/300\n",
      "79/79 [==============================] - 4s 49ms/step - loss: 0.1385 - accuracy: 0.9625 - val_loss: 2.7764 - val_accuracy: 0.6253\n",
      "Epoch 212/300\n",
      "79/79 [==============================] - 3s 40ms/step - loss: 0.1317 - accuracy: 0.9643 - val_loss: 0.0962 - val_accuracy: 0.9827\n",
      "Epoch 213/300\n",
      "79/79 [==============================] - 3s 39ms/step - loss: 0.1201 - accuracy: 0.9666 - val_loss: 0.1069 - val_accuracy: 0.9810\n",
      "Epoch 214/300\n",
      "79/79 [==============================] - 4s 44ms/step - loss: 0.1164 - accuracy: 0.9670 - val_loss: 0.0996 - val_accuracy: 0.9842\n",
      "Epoch 215/300\n",
      "79/79 [==============================] - 3s 40ms/step - loss: 0.1314 - accuracy: 0.9652 - val_loss: 0.0938 - val_accuracy: 0.9821\n",
      "Epoch 216/300\n",
      "79/79 [==============================] - 4s 52ms/step - loss: 0.1273 - accuracy: 0.9665 - val_loss: 0.1273 - val_accuracy: 0.9789\n",
      "Epoch 217/300\n",
      "79/79 [==============================] - 4s 56ms/step - loss: 0.1204 - accuracy: 0.9688 - val_loss: 0.2008 - val_accuracy: 0.9643\n",
      "Epoch 218/300\n",
      "79/79 [==============================] - 3s 42ms/step - loss: 0.1316 - accuracy: 0.9648 - val_loss: 0.0904 - val_accuracy: 0.9824\n",
      "Epoch 219/300\n",
      "79/79 [==============================] - 3s 40ms/step - loss: 0.1230 - accuracy: 0.9671 - val_loss: 0.0985 - val_accuracy: 0.9827\n",
      "Epoch 220/300\n",
      "79/79 [==============================] - 4s 53ms/step - loss: 0.1400 - accuracy: 0.9646 - val_loss: 0.1203 - val_accuracy: 0.9780\n",
      "Epoch 221/300\n",
      "79/79 [==============================] - 3s 42ms/step - loss: 0.1283 - accuracy: 0.9656 - val_loss: 0.1209 - val_accuracy: 0.9810\n",
      "Epoch 222/300\n",
      "79/79 [==============================] - 3s 40ms/step - loss: 0.1484 - accuracy: 0.9628 - val_loss: 0.1193 - val_accuracy: 0.9812\n",
      "Epoch 223/300\n",
      "79/79 [==============================] - 3s 43ms/step - loss: 0.1321 - accuracy: 0.9630 - val_loss: 0.3147 - val_accuracy: 0.9342\n",
      "Epoch 224/300\n",
      "79/79 [==============================] - 3s 40ms/step - loss: 0.1408 - accuracy: 0.9618 - val_loss: 0.1066 - val_accuracy: 0.9774\n",
      "Epoch 225/300\n",
      "79/79 [==============================] - 3s 42ms/step - loss: 0.1118 - accuracy: 0.9682 - val_loss: 0.2267 - val_accuracy: 0.9670\n",
      "Epoch 226/300\n",
      "79/79 [==============================] - 5s 66ms/step - loss: 0.1233 - accuracy: 0.9679 - val_loss: 0.1176 - val_accuracy: 0.9827\n",
      "Epoch 227/300\n",
      "79/79 [==============================] - 3s 39ms/step - loss: 0.1324 - accuracy: 0.9627 - val_loss: 0.2794 - val_accuracy: 0.9640\n",
      "Epoch 228/300\n",
      "79/79 [==============================] - 4s 51ms/step - loss: 0.1370 - accuracy: 0.9612 - val_loss: 0.1352 - val_accuracy: 0.9741\n",
      "Epoch 229/300\n",
      "79/79 [==============================] - 3s 40ms/step - loss: 0.1339 - accuracy: 0.9626 - val_loss: 0.1321 - val_accuracy: 0.9798\n",
      "Epoch 230/300\n",
      "79/79 [==============================] - 3s 41ms/step - loss: 0.1420 - accuracy: 0.9635 - val_loss: 0.1086 - val_accuracy: 0.9798\n",
      "Epoch 231/300\n",
      "79/79 [==============================] - 3s 43ms/step - loss: 0.1404 - accuracy: 0.9646 - val_loss: 0.1125 - val_accuracy: 0.9804\n",
      "Epoch 232/300\n",
      "79/79 [==============================] - 3s 41ms/step - loss: 0.1402 - accuracy: 0.9665 - val_loss: 0.1572 - val_accuracy: 0.9720\n",
      "Epoch 233/300\n",
      "79/79 [==============================] - 3s 41ms/step - loss: 0.1185 - accuracy: 0.9688 - val_loss: 0.2412 - val_accuracy: 0.9652\n",
      "Epoch 234/300\n",
      "79/79 [==============================] - 4s 54ms/step - loss: 0.1148 - accuracy: 0.9674 - val_loss: 0.1152 - val_accuracy: 0.9801\n",
      "Epoch 235/300\n",
      "79/79 [==============================] - 4s 55ms/step - loss: 0.1230 - accuracy: 0.9671 - val_loss: 0.1102 - val_accuracy: 0.9833\n",
      "Epoch 236/300\n",
      "79/79 [==============================] - 3s 42ms/step - loss: 0.1430 - accuracy: 0.9619 - val_loss: 0.1058 - val_accuracy: 0.9810\n",
      "Epoch 237/300\n",
      "79/79 [==============================] - 4s 53ms/step - loss: 0.1373 - accuracy: 0.9658 - val_loss: 0.7894 - val_accuracy: 0.8464\n",
      "Epoch 238/300\n",
      "79/79 [==============================] - 3s 40ms/step - loss: 0.1105 - accuracy: 0.9688 - val_loss: 0.1219 - val_accuracy: 0.9804\n",
      "Epoch 239/300\n",
      "79/79 [==============================] - 3s 40ms/step - loss: 0.1277 - accuracy: 0.9654 - val_loss: 0.1181 - val_accuracy: 0.9824\n",
      "Epoch 240/300\n",
      "79/79 [==============================] - 4s 45ms/step - loss: 0.1251 - accuracy: 0.9651 - val_loss: 0.1967 - val_accuracy: 0.9664\n",
      "Epoch 241/300\n",
      "79/79 [==============================] - 3s 40ms/step - loss: 0.1114 - accuracy: 0.9704 - val_loss: 0.1283 - val_accuracy: 0.9824\n",
      "Epoch 242/300\n",
      "79/79 [==============================] - 3s 40ms/step - loss: 0.1200 - accuracy: 0.9709 - val_loss: 0.1491 - val_accuracy: 0.9833\n",
      "Epoch 243/300\n",
      "79/79 [==============================] - 3s 44ms/step - loss: 0.1337 - accuracy: 0.9661 - val_loss: 0.1368 - val_accuracy: 0.9762\n",
      "Epoch 244/300\n",
      "79/79 [==============================] - 5s 58ms/step - loss: 0.1275 - accuracy: 0.9684 - val_loss: 0.1291 - val_accuracy: 0.9815\n",
      "Epoch 245/300\n",
      "79/79 [==============================] - 4s 46ms/step - loss: 0.1230 - accuracy: 0.9666 - val_loss: 0.1557 - val_accuracy: 0.9768\n",
      "Epoch 246/300\n",
      "79/79 [==============================] - 4s 53ms/step - loss: 0.1305 - accuracy: 0.9657 - val_loss: 0.1133 - val_accuracy: 0.9827\n",
      "Epoch 247/300\n",
      "79/79 [==============================] - 3s 42ms/step - loss: 0.1208 - accuracy: 0.9672 - val_loss: 0.1294 - val_accuracy: 0.9792\n",
      "Epoch 248/300\n",
      "79/79 [==============================] - 3s 42ms/step - loss: 0.1261 - accuracy: 0.9679 - val_loss: 0.1412 - val_accuracy: 0.9801\n",
      "Epoch 249/300\n",
      "79/79 [==============================] - 4s 45ms/step - loss: 0.1231 - accuracy: 0.9676 - val_loss: 0.1403 - val_accuracy: 0.9827\n",
      "Epoch 250/300\n",
      "79/79 [==============================] - 3s 41ms/step - loss: 0.1275 - accuracy: 0.9679 - val_loss: 2.3592 - val_accuracy: 0.7563\n",
      "Epoch 251/300\n",
      "79/79 [==============================] - 3s 39ms/step - loss: 0.1112 - accuracy: 0.9691 - val_loss: 0.1507 - val_accuracy: 0.9777\n",
      "Epoch 252/300\n",
      "79/79 [==============================] - 3s 44ms/step - loss: 0.1332 - accuracy: 0.9663 - val_loss: 0.1021 - val_accuracy: 0.9851\n",
      "Epoch 253/300\n",
      "79/79 [==============================] - 3s 40ms/step - loss: 0.1201 - accuracy: 0.9664 - val_loss: 0.1292 - val_accuracy: 0.9780\n",
      "Epoch 254/300\n",
      "79/79 [==============================] - 5s 68ms/step - loss: 0.1180 - accuracy: 0.9684 - val_loss: 0.7761 - val_accuracy: 0.8762\n",
      "Epoch 255/300\n",
      "79/79 [==============================] - 3s 42ms/step - loss: 0.1316 - accuracy: 0.9659 - val_loss: 0.1172 - val_accuracy: 0.9795\n",
      "Epoch 256/300\n",
      "79/79 [==============================] - 3s 40ms/step - loss: 0.1216 - accuracy: 0.9679 - val_loss: 0.1442 - val_accuracy: 0.9756\n",
      "Epoch 257/300\n",
      "79/79 [==============================] - 4s 46ms/step - loss: 0.1344 - accuracy: 0.9651 - val_loss: 0.1424 - val_accuracy: 0.9801\n",
      "Epoch 258/300\n",
      "79/79 [==============================] - 3s 41ms/step - loss: 0.1119 - accuracy: 0.9704 - val_loss: 0.1227 - val_accuracy: 0.9801\n",
      "Epoch 259/300\n",
      "79/79 [==============================] - 3s 40ms/step - loss: 0.1182 - accuracy: 0.9683 - val_loss: 0.1607 - val_accuracy: 0.9699\n",
      "Epoch 260/300\n",
      "79/79 [==============================] - 3s 43ms/step - loss: 0.1335 - accuracy: 0.9651 - val_loss: 2.0245 - val_accuracy: 0.8339\n",
      "Epoch 261/300\n",
      "79/79 [==============================] - 3s 41ms/step - loss: 0.1647 - accuracy: 0.9543 - val_loss: 0.1548 - val_accuracy: 0.9756\n",
      "Epoch 262/300\n",
      "79/79 [==============================] - 4s 50ms/step - loss: 0.1333 - accuracy: 0.9664 - val_loss: 0.1231 - val_accuracy: 0.9830\n",
      "Epoch 263/300\n",
      "79/79 [==============================] - 6s 73ms/step - loss: 0.1331 - accuracy: 0.9638 - val_loss: 0.1689 - val_accuracy: 0.9765\n",
      "Epoch 264/300\n",
      "79/79 [==============================] - 3s 40ms/step - loss: 0.1340 - accuracy: 0.9646 - val_loss: 0.1191 - val_accuracy: 0.9827\n",
      "Epoch 265/300\n",
      "79/79 [==============================] - 3s 40ms/step - loss: 0.1328 - accuracy: 0.9649 - val_loss: 0.1306 - val_accuracy: 0.9821\n",
      "Epoch 266/300\n",
      "79/79 [==============================] - 3s 44ms/step - loss: 0.1248 - accuracy: 0.9662 - val_loss: 0.1233 - val_accuracy: 0.9783\n",
      "Epoch 267/300\n",
      "79/79 [==============================] - 3s 40ms/step - loss: 0.1198 - accuracy: 0.9689 - val_loss: 0.6572 - val_accuracy: 0.8833\n",
      "Epoch 268/300\n",
      "79/79 [==============================] - 3s 40ms/step - loss: 0.1128 - accuracy: 0.9688 - val_loss: 0.1254 - val_accuracy: 0.9821\n",
      "Epoch 269/300\n",
      "79/79 [==============================] - 4s 45ms/step - loss: 0.1103 - accuracy: 0.9706 - val_loss: 0.1166 - val_accuracy: 0.9836\n",
      "Epoch 270/300\n",
      "79/79 [==============================] - 3s 40ms/step - loss: 0.1231 - accuracy: 0.9700 - val_loss: 0.1150 - val_accuracy: 0.9768\n",
      "Epoch 271/300\n",
      "79/79 [==============================] - 3s 41ms/step - loss: 0.1247 - accuracy: 0.9679 - val_loss: 0.1060 - val_accuracy: 0.9780\n",
      "Epoch 272/300\n",
      "79/79 [==============================] - 4s 54ms/step - loss: 0.1281 - accuracy: 0.9670 - val_loss: 0.1035 - val_accuracy: 0.9807\n",
      "Epoch 273/300\n",
      "79/79 [==============================] - 5s 57ms/step - loss: 0.1210 - accuracy: 0.9678 - val_loss: 0.1251 - val_accuracy: 0.9815\n",
      "Epoch 274/300\n",
      "79/79 [==============================] - 3s 39ms/step - loss: 0.1305 - accuracy: 0.9671 - val_loss: 0.1447 - val_accuracy: 0.9777\n",
      "Epoch 275/300\n",
      "79/79 [==============================] - 3s 44ms/step - loss: 0.1220 - accuracy: 0.9651 - val_loss: 0.4083 - val_accuracy: 0.9155\n",
      "Epoch 276/300\n",
      "79/79 [==============================] - 3s 41ms/step - loss: 0.1203 - accuracy: 0.9684 - val_loss: 0.1299 - val_accuracy: 0.9783\n",
      "Epoch 277/300\n",
      "79/79 [==============================] - 3s 40ms/step - loss: 0.1089 - accuracy: 0.9696 - val_loss: 0.1383 - val_accuracy: 0.9818\n",
      "Epoch 278/300\n",
      "79/79 [==============================] - 3s 43ms/step - loss: 0.1077 - accuracy: 0.9705 - val_loss: 0.1088 - val_accuracy: 0.9792\n",
      "Epoch 279/300\n",
      "79/79 [==============================] - 3s 40ms/step - loss: 0.1200 - accuracy: 0.9675 - val_loss: 0.1218 - val_accuracy: 0.9818\n",
      "Epoch 280/300\n",
      "79/79 [==============================] - 3s 41ms/step - loss: 0.1355 - accuracy: 0.9649 - val_loss: 0.1503 - val_accuracy: 0.9741\n",
      "Epoch 281/300\n",
      "79/79 [==============================] - 4s 47ms/step - loss: 0.1069 - accuracy: 0.9694 - val_loss: 0.1160 - val_accuracy: 0.9830\n",
      "Epoch 282/300\n",
      "79/79 [==============================] - 4s 53ms/step - loss: 0.1222 - accuracy: 0.9693 - val_loss: 0.1414 - val_accuracy: 0.9821\n",
      "Epoch 283/300\n",
      "79/79 [==============================] - 4s 53ms/step - loss: 0.1079 - accuracy: 0.9705 - val_loss: 0.1702 - val_accuracy: 0.9747\n",
      "Epoch 284/300\n",
      "79/79 [==============================] - 4s 46ms/step - loss: 0.1209 - accuracy: 0.9690 - val_loss: 0.1332 - val_accuracy: 0.9750\n",
      "Epoch 285/300\n",
      "79/79 [==============================] - 3s 40ms/step - loss: 0.1049 - accuracy: 0.9717 - val_loss: 0.1102 - val_accuracy: 0.9842\n",
      "Epoch 286/300\n",
      "79/79 [==============================] - 3s 41ms/step - loss: 0.1127 - accuracy: 0.9712 - val_loss: 0.1190 - val_accuracy: 0.9821\n",
      "Epoch 287/300\n",
      "79/79 [==============================] - 3s 44ms/step - loss: 0.1034 - accuracy: 0.9726 - val_loss: 0.1278 - val_accuracy: 0.9812\n",
      "Epoch 288/300\n",
      "79/79 [==============================] - 3s 41ms/step - loss: 0.1023 - accuracy: 0.9716 - val_loss: 0.1368 - val_accuracy: 0.9812\n",
      "Epoch 289/300\n",
      "79/79 [==============================] - 3s 43ms/step - loss: 0.1091 - accuracy: 0.9695 - val_loss: 0.1273 - val_accuracy: 0.9818\n",
      "Epoch 290/300\n",
      "79/79 [==============================] - 4s 45ms/step - loss: 0.1066 - accuracy: 0.9710 - val_loss: 0.1240 - val_accuracy: 0.9810\n",
      "Epoch 291/300\n",
      "79/79 [==============================] - 4s 45ms/step - loss: 0.1105 - accuracy: 0.9715 - val_loss: 0.1214 - val_accuracy: 0.9818\n",
      "Epoch 292/300\n",
      "79/79 [==============================] - 5s 61ms/step - loss: 0.1181 - accuracy: 0.9683 - val_loss: 0.7042 - val_accuracy: 0.9170\n",
      "Epoch 293/300\n",
      "79/79 [==============================] - 4s 53ms/step - loss: 0.1034 - accuracy: 0.9712 - val_loss: 0.1269 - val_accuracy: 0.9818\n",
      "Epoch 294/300\n",
      "79/79 [==============================] - 3s 41ms/step - loss: 0.1057 - accuracy: 0.9702 - val_loss: 1.0920 - val_accuracy: 0.9193\n",
      "Epoch 295/300\n",
      "79/79 [==============================] - 3s 40ms/step - loss: 0.1175 - accuracy: 0.9703 - val_loss: 0.1069 - val_accuracy: 0.9839\n",
      "Epoch 296/300\n",
      "79/79 [==============================] - 3s 44ms/step - loss: 0.1185 - accuracy: 0.9716 - val_loss: 0.1391 - val_accuracy: 0.9747\n",
      "Epoch 297/300\n",
      "79/79 [==============================] - 3s 42ms/step - loss: 0.1231 - accuracy: 0.9678 - val_loss: 0.1119 - val_accuracy: 0.9818\n",
      "Epoch 298/300\n",
      "79/79 [==============================] - 4s 48ms/step - loss: 0.1208 - accuracy: 0.9679 - val_loss: 0.1182 - val_accuracy: 0.9818\n",
      "Epoch 299/300\n",
      "79/79 [==============================] - 3s 44ms/step - loss: 0.1176 - accuracy: 0.9696 - val_loss: 0.1377 - val_accuracy: 0.9815\n",
      "Epoch 300/300\n",
      "79/79 [==============================] - 3s 42ms/step - loss: 0.1180 - accuracy: 0.9699 - val_loss: 0.1086 - val_accuracy: 0.9810\n"
     ]
    }
   ],
   "source": [
    "epochs = 300\n",
    "batch_size = 128\n",
    "\n",
    "history = network.fit(datagen.flow(X_train,y_train, batch_size=batch_size),\n",
    "                              epochs = epochs, validation_data = (X_val,y_val),\n",
    "                              verbose = 1)"
   ]
  },
  {
   "cell_type": "code",
   "execution_count": 15,
   "id": "607ec01b",
   "metadata": {
    "execution": {
     "iopub.execute_input": "2021-11-07T11:47:53.459775Z",
     "iopub.status.busy": "2021-11-07T11:47:53.458540Z",
     "iopub.status.idle": "2021-11-07T11:47:53.625453Z",
     "shell.execute_reply": "2021-11-07T11:47:53.624769Z",
     "shell.execute_reply.started": "2021-11-07T11:02:27.611966Z"
    },
    "id": "S-vWesuVYa0F",
    "outputId": "7b8fb445-6087-4e2c-de6a-2330ab8d8b93",
    "papermill": {
     "duration": 4.018607,
     "end_time": "2021-11-07T11:47:53.625576",
     "exception": false,
     "start_time": "2021-11-07T11:47:49.606969",
     "status": "completed"
    },
    "tags": []
   },
   "outputs": [
    {
     "data": {
      "text/plain": [
       "[<matplotlib.lines.Line2D at 0x7f57301f8f10>]"
      ]
     },
     "execution_count": 15,
     "metadata": {},
     "output_type": "execute_result"
    },
    {
     "data": {
      "image/png": "[encoded data removed]",
      "text/plain": [
       "<Figure size 432x288 with 1 Axes>"
      ]
     },
     "metadata": {
      "needs_background": "light"
     },
     "output_type": "display_data"
    }
   ],
   "source": [
    "plt.plot(history.history['accuracy'])\n",
    "plt.plot(history.history['val_accuracy'])"
   ]
  },
  {
   "cell_type": "code",
   "execution_count": 16,
   "id": "a9a479bd",
   "metadata": {
    "execution": {
     "iopub.execute_input": "2021-11-07T11:48:00.744308Z",
     "iopub.status.busy": "2021-11-07T11:48:00.729316Z",
     "iopub.status.idle": "2021-11-07T11:48:00.921313Z",
     "shell.execute_reply": "2021-11-07T11:48:00.920843Z",
     "shell.execute_reply.started": "2021-11-07T11:02:27.805715Z"
    },
    "id": "P0dG_2fZzFJn",
    "outputId": "4eafe70a-643a-4032-ad7a-ab06a8a1d855",
    "papermill": {
     "duration": 3.792042,
     "end_time": "2021-11-07T11:48:00.921443",
     "exception": false,
     "start_time": "2021-11-07T11:47:57.129401",
     "status": "completed"
    },
    "tags": []
   },
   "outputs": [
    {
     "data": {
      "text/plain": [
       "[<matplotlib.lines.Line2D at 0x7f5730183790>]"
      ]
     },
     "execution_count": 16,
     "metadata": {},
     "output_type": "execute_result"
    },
    {
     "data": {
      "image/png": "[encoded data removed]",
      "text/plain": [
       "<Figure size 432x288 with 1 Axes>"
      ]
     },
     "metadata": {
      "needs_background": "light"
     },
     "output_type": "display_data"
    }
   ],
   "source": [
    "plt.plot(history.history['loss'])\n",
    "plt.plot(history.history['val_loss'])"
   ]
  },
  {
   "cell_type": "code",
   "execution_count": 17,
   "id": "27d5a8dc",
   "metadata": {
    "execution": {
     "iopub.execute_input": "2021-11-07T11:48:09.094367Z",
     "iopub.status.busy": "2021-11-07T11:48:09.076544Z",
     "iopub.status.idle": "2021-11-07T11:48:10.826909Z",
     "shell.execute_reply": "2021-11-07T11:48:10.827512Z",
     "shell.execute_reply.started": "2021-11-07T11:02:27.999696Z"
    },
    "id": "p_3JODX17leo",
    "outputId": "15de5989-be75-4e9f-bd1a-16c16cf20b98",
    "papermill": {
     "duration": 5.840874,
     "end_time": "2021-11-07T11:48:10.827679",
     "exception": false,
     "start_time": "2021-11-07T11:48:04.986805",
     "status": "completed"
    },
    "tags": []
   },
   "outputs": [
    {
     "data": {
      "image/png": "[encoded data removed]",
      "text/plain": [
       "<Figure size 1440x216 with 20 Axes>"
      ]
     },
     "metadata": {
      "needs_background": "light"
     },
     "output_type": "display_data"
    }
   ],
   "source": [
    "n = 20\n",
    "r = np.random.randint(0,len(X_val),size = n)\n",
    "fig,axs = plt.subplots(1,n)\n",
    "fig.set_size_inches(20, 3)\n",
    "\n",
    "for i in range(n):\n",
    "  pred = network.predict(X_val[r[i]].reshape(1,32,32,1))\n",
    "  axs[i].imshow(X_val[r[i]].reshape(32,32),cmap='gray')\n",
    "  axs[i].title.set_text(m[pred.argmax()+1])\n",
    "  axs[i].axis('off')\n",
    "plt.show()"
   ]
  },
  {
   "cell_type": "code",
   "execution_count": 18,
   "id": "0e42462c",
   "metadata": {
    "execution": {
     "iopub.execute_input": "2021-11-07T11:48:18.319617Z",
     "iopub.status.busy": "2021-11-07T11:48:18.318944Z",
     "iopub.status.idle": "2021-11-07T11:48:32.388061Z",
     "shell.execute_reply": "2021-11-07T11:48:32.387562Z",
     "shell.execute_reply.started": "2021-11-07T11:02:29.617311Z"
    },
    "id": "s4VdwB4HzXr3",
    "outputId": "087addee-4b36-4050-a6c8-3284ce574470",
    "papermill": {
     "duration": 17.665169,
     "end_time": "2021-11-07T11:48:32.388220",
     "exception": false,
     "start_time": "2021-11-07T11:48:14.723051",
     "status": "completed"
    },
    "tags": []
   },
   "outputs": [
    {
     "data": {
      "text/plain": [
       "(3360, 32, 32, 1)"
      ]
     },
     "execution_count": 18,
     "metadata": {},
     "output_type": "execute_result"
    }
   ],
   "source": [
    "test_path = sorted(glob('../input/arabic-hwr-ai-pro-intake1/test/*.png'))\n",
    "Xtest=[]\n",
    "for i in test_path:\n",
    "    im = img_to_array(Image.open(i).convert('L'))\n",
    "    Xtest.append(im)\n",
    "Xtest = np.array(Xtest)\n",
    "Xtest.shape"
   ]
  },
  {
   "cell_type": "code",
   "execution_count": 19,
   "id": "2d8a2337",
   "metadata": {
    "execution": {
     "iopub.execute_input": "2021-11-07T11:48:40.426086Z",
     "iopub.status.busy": "2021-11-07T11:48:40.425210Z",
     "iopub.status.idle": "2021-11-07T11:48:42.520025Z",
     "shell.execute_reply": "2021-11-07T11:48:42.520485Z",
     "shell.execute_reply.started": "2021-11-07T11:02:31.917408Z"
    },
    "id": "o6Eq-3NY4p81",
    "outputId": "8661353f-1702-4500-8a00-e2fcffe67889",
    "papermill": {
     "duration": 6.069258,
     "end_time": "2021-11-07T11:48:42.520638",
     "exception": false,
     "start_time": "2021-11-07T11:48:36.451380",
     "status": "completed"
    },
    "tags": []
   },
   "outputs": [
    {
     "data": {
      "image/png": "[encoded data removed]",
      "text/plain": [
       "<Figure size 1440x216 with 30 Axes>"
      ]
     },
     "metadata": {
      "needs_background": "light"
     },
     "output_type": "display_data"
    }
   ],
   "source": [
    "n = 30\n",
    "r = np.random.randint(0,len(Xtest),size = n)\n",
    "fig,axs = plt.subplots(2,n//2)\n",
    "fig.set_size_inches(20, 3)\n",
    "\n",
    "for i in range(n//2):\n",
    "  pred = network.predict(Xtest[r[i]].reshape(1,32,32,1))\n",
    "  axs[0][i].imshow(Xtest[r[i]].reshape(32,32),cmap='gray')\n",
    "  axs[0][i].title.set_text(m[pred.argmax()+1])\n",
    "  axs[0][i].axis('off')\n",
    "\n",
    "for i in range(n//2):\n",
    "  pred = network.predict(Xtest[r[i+n//2]].reshape(1,32,32,1))\n",
    "  axs[1][i].imshow(Xtest[r[i+n//2]].reshape(32,32),cmap='gray')\n",
    "  axs[1][i].title.set_text(m[pred.argmax()+1])\n",
    "  axs[1][i].axis('off')\n",
    "\n",
    "\n",
    "plt.show()"
   ]
  },
  {
   "cell_type": "code",
   "execution_count": 20,
   "id": "822cfca3",
   "metadata": {
    "execution": {
     "iopub.execute_input": "2021-11-07T11:48:49.962874Z",
     "iopub.status.busy": "2021-11-07T11:48:49.961899Z",
     "iopub.status.idle": "2021-11-07T11:48:50.385829Z",
     "shell.execute_reply": "2021-11-07T11:48:50.385356Z",
     "shell.execute_reply.started": "2021-11-07T11:02:34.612991Z"
    },
    "id": "lP09ZhmL5zT9",
    "papermill": {
     "duration": 4.28017,
     "end_time": "2021-11-07T11:48:50.385959",
     "exception": false,
     "start_time": "2021-11-07T11:48:46.105789",
     "status": "completed"
    },
    "tags": []
   },
   "outputs": [],
   "source": [
    "pred = network.predict(Xtest)\n",
    "preds = pred.argmax(axis=1)+1"
   ]
  },
  {
   "cell_type": "code",
   "execution_count": null,
   "id": "7d525915",
   "metadata": {
    "id": "DjeKjBUU58E8",
    "papermill": {
     "duration": 3.677393,
     "end_time": "2021-11-07T11:48:57.587253",
     "exception": false,
     "start_time": "2021-11-07T11:48:53.909860",
     "status": "completed"
    },
    "tags": []
   },
   "outputs": [],
   "source": []
  },
  {
   "cell_type": "code",
   "execution_count": 21,
   "id": "ada42d96",
   "metadata": {
    "execution": {
     "iopub.execute_input": "2021-11-07T11:49:04.777862Z",
     "iopub.status.busy": "2021-11-07T11:49:04.776954Z",
     "iopub.status.idle": "2021-11-07T11:49:04.786809Z",
     "shell.execute_reply": "2021-11-07T11:49:04.786375Z",
     "shell.execute_reply.started": "2021-11-07T11:02:34.901099Z"
    },
    "id": "YjFvud1T3yUW",
    "papermill": {
     "duration": 3.585414,
     "end_time": "2021-11-07T11:49:04.786930",
     "exception": false,
     "start_time": "2021-11-07T11:49:01.201516",
     "status": "completed"
    },
    "tags": []
   },
   "outputs": [],
   "source": [
    "submission = pd.read_csv('../input/arabic-hwr-ai-pro-intake1/sample_submission.csv')\n"
   ]
  },
  {
   "cell_type": "code",
   "execution_count": 22,
   "id": "4afa11e6",
   "metadata": {
    "execution": {
     "iopub.execute_input": "2021-11-07T11:49:12.455501Z",
     "iopub.status.busy": "2021-11-07T11:49:12.454726Z",
     "iopub.status.idle": "2021-11-07T11:49:12.459384Z",
     "shell.execute_reply": "2021-11-07T11:49:12.459964Z",
     "shell.execute_reply.started": "2021-11-07T11:02:34.910184Z"
    },
    "id": "AQhBEIbZ6A-D",
    "outputId": "fcf3b779-1262-41cb-d589-ee1c54e3670a",
    "papermill": {
     "duration": 4.09474,
     "end_time": "2021-11-07T11:49:12.460150",
     "exception": false,
     "start_time": "2021-11-07T11:49:08.365410",
     "status": "completed"
    },
    "tags": []
   },
   "outputs": [
    {
     "data": {
      "text/html": [
       "<div>\n",
       "<style scoped>\n",
       "    .dataframe tbody tr th:only-of-type {\n",
       "        vertical-align: middle;\n",
       "    }\n",
       "\n",
       "    .dataframe tbody tr th {\n",
       "        vertical-align: top;\n",
       "    }\n",
       "\n",
       "    .dataframe thead th {\n",
       "        text-align: right;\n",
       "    }\n",
       "</style>\n",
       "<table border=\"1\" class=\"dataframe\">\n",
       "  <thead>\n",
       "    <tr style=\"text-align: right;\">\n",
       "      <th></th>\n",
       "      <th>id</th>\n",
       "      <th>label</th>\n",
       "    </tr>\n",
       "  </thead>\n",
       "  <tbody>\n",
       "    <tr>\n",
       "      <th>0</th>\n",
       "      <td>0</td>\n",
       "      <td>1</td>\n",
       "    </tr>\n",
       "    <tr>\n",
       "      <th>1</th>\n",
       "      <td>1</td>\n",
       "      <td>1</td>\n",
       "    </tr>\n",
       "    <tr>\n",
       "      <th>2</th>\n",
       "      <td>2</td>\n",
       "      <td>1</td>\n",
       "    </tr>\n",
       "    <tr>\n",
       "      <th>3</th>\n",
       "      <td>3</td>\n",
       "      <td>1</td>\n",
       "    </tr>\n",
       "    <tr>\n",
       "      <th>4</th>\n",
       "      <td>4</td>\n",
       "      <td>1</td>\n",
       "    </tr>\n",
       "  </tbody>\n",
       "</table>\n",
       "</div>"
      ],
      "text/plain": [
       "   id  label\n",
       "0   0      1\n",
       "1   1      1\n",
       "2   2      1\n",
       "3   3      1\n",
       "4   4      1"
      ]
     },
     "execution_count": 22,
     "metadata": {},
     "output_type": "execute_result"
    }
   ],
   "source": [
    "submission.head()"
   ]
  },
  {
   "cell_type": "code",
   "execution_count": 23,
   "id": "40e62141",
   "metadata": {
    "execution": {
     "iopub.execute_input": "2021-11-07T11:49:20.047603Z",
     "iopub.status.busy": "2021-11-07T11:49:20.046525Z",
     "iopub.status.idle": "2021-11-07T11:49:20.051256Z",
     "shell.execute_reply": "2021-11-07T11:49:20.050735Z",
     "shell.execute_reply.started": "2021-11-07T11:02:34.922402Z"
    },
    "id": "28PbvB_D6DOU",
    "outputId": "ee779c45-1600-4aed-a479-cbc6c79fc624",
    "papermill": {
     "duration": 3.864318,
     "end_time": "2021-11-07T11:49:20.051388",
     "exception": false,
     "start_time": "2021-11-07T11:49:16.187070",
     "status": "completed"
    },
    "tags": []
   },
   "outputs": [
    {
     "data": {
      "text/html": [
       "<div>\n",
       "<style scoped>\n",
       "    .dataframe tbody tr th:only-of-type {\n",
       "        vertical-align: middle;\n",
       "    }\n",
       "\n",
       "    .dataframe tbody tr th {\n",
       "        vertical-align: top;\n",
       "    }\n",
       "\n",
       "    .dataframe thead th {\n",
       "        text-align: right;\n",
       "    }\n",
       "</style>\n",
       "<table border=\"1\" class=\"dataframe\">\n",
       "  <thead>\n",
       "    <tr style=\"text-align: right;\">\n",
       "      <th></th>\n",
       "      <th>id</th>\n",
       "      <th>label</th>\n",
       "    </tr>\n",
       "  </thead>\n",
       "  <tbody>\n",
       "    <tr>\n",
       "      <th>0</th>\n",
       "      <td>0</td>\n",
       "      <td>26</td>\n",
       "    </tr>\n",
       "    <tr>\n",
       "      <th>1</th>\n",
       "      <td>1</td>\n",
       "      <td>10</td>\n",
       "    </tr>\n",
       "    <tr>\n",
       "      <th>2</th>\n",
       "      <td>2</td>\n",
       "      <td>1</td>\n",
       "    </tr>\n",
       "    <tr>\n",
       "      <th>3</th>\n",
       "      <td>3</td>\n",
       "      <td>10</td>\n",
       "    </tr>\n",
       "    <tr>\n",
       "      <th>4</th>\n",
       "      <td>4</td>\n",
       "      <td>15</td>\n",
       "    </tr>\n",
       "  </tbody>\n",
       "</table>\n",
       "</div>"
      ],
      "text/plain": [
       "   id  label\n",
       "0   0     26\n",
       "1   1     10\n",
       "2   2      1\n",
       "3   3     10\n",
       "4   4     15"
      ]
     },
     "execution_count": 23,
     "metadata": {},
     "output_type": "execute_result"
    }
   ],
   "source": [
    "submission['label'] = preds\n",
    "submission.head()"
   ]
  },
  {
   "cell_type": "code",
   "execution_count": 24,
   "id": "0157f592",
   "metadata": {
    "execution": {
     "iopub.execute_input": "2021-11-07T11:49:27.340178Z",
     "iopub.status.busy": "2021-11-07T11:49:27.339302Z",
     "iopub.status.idle": "2021-11-07T11:49:27.349457Z",
     "shell.execute_reply": "2021-11-07T11:49:27.349001Z",
     "shell.execute_reply.started": "2021-11-07T11:02:34.937569Z"
    },
    "id": "WNSbjx1-6MSq",
    "papermill": {
     "duration": 3.59596,
     "end_time": "2021-11-07T11:49:27.349580",
     "exception": false,
     "start_time": "2021-11-07T11:49:23.753620",
     "status": "completed"
    },
    "tags": []
   },
   "outputs": [],
   "source": [
    "submission.to_csv('submission.csv',index=False)"
   ]
  },
  {
   "cell_type": "code",
   "execution_count": null,
   "id": "d70797b8",
   "metadata": {
    "id": "kPOiNEv86V9I",
    "papermill": {
     "duration": 3.669738,
     "end_time": "2021-11-07T11:49:34.804788",
     "exception": false,
     "start_time": "2021-11-07T11:49:31.135050",
     "status": "completed"
    },
    "tags": []
   },
   "outputs": [],
   "source": []
  }
 ],
 "metadata": {
  "kernelspec": {
   "display_name": "Python 3",
   "language": "python",
   "name": "python3"
  },
  "language_info": {
   "codemirror_mode": {
    "name": "ipython",
    "version": 3
   },
   "file_extension": ".py",
   "mimetype": "text/x-python",
   "name": "python",
   "nbconvert_exporter": "python",
   "pygments_lexer": "ipython3",
   "version": "3.7.10"
  },
  "papermill": {
   "default_parameters": {},
   "duration": 1275.771845,
   "end_time": "2021-11-07T11:49:41.842355",
   "environment_variables": {},
   "exception": null,
   "input_path": "__notebook__.ipynb",
   "output_path": "__notebook__.ipynb",
   "parameters": {},
   "start_time": "2021-11-07T11:28:26.070510",
   "version": "2.3.3"
  }
 },
 "nbformat": 4,
 "nbformat_minor": 5
}
